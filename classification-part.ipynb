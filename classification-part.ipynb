{
  "cells": [
    {
      "cell_type": "markdown",
      "id": "dc0dbed0",
      "metadata": {
        "id": "dc0dbed0"
      },
      "source": [
        "importing the required packages:"
      ]
    },
    {
      "cell_type": "code",
      "execution_count": null,
      "id": "f0551684",
      "metadata": {
        "id": "f0551684"
      },
      "outputs": [],
      "source": [
        "import numpy as np\n",
        "import pandas as pd\n",
        "import matplotlib.pyplot as plt\n",
        "%matplotlib inline\n",
        "import seaborn as sns\n",
        "from datetime import datetime\n",
        "from sklearn.preprocessing import StandardScaler\n",
        "from sklearn.feature_selection import SelectKBest, chi2\n",
        "from sklearn.model_selection import train_test_split, GridSearchCV\n",
        "from sklearn.linear_model import LogisticRegression\n",
        "from sklearn.svm import SVC\n",
        "from sklearn.neighbors import KNeighborsClassifier\n",
        "from sklearn.tree import DecisionTreeClassifier\n",
        "from sklearn.ensemble import RandomForestClassifier\n",
        "from sklearn.naive_bayes import GaussianNB\n",
        "from imblearn.over_sampling import SMOTE\n",
        "from sklearn.metrics import classification_report, confusion_matrix, roc_curve, roc_auc_score, accuracy_score"
      ]
    },
    {
      "cell_type": "code",
      "source": [
        "from google.colab import drive\n",
        "drive.mount('/content/drive')"
      ],
      "metadata": {
        "colab": {
          "base_uri": "https://localhost:8080/"
        },
        "id": "br7G9fGh9qi4",
        "outputId": "0ba1922a-de2a-4112-bad9-84d336cf91b3"
      },
      "id": "br7G9fGh9qi4",
      "execution_count": null,
      "outputs": [
        {
          "output_type": "stream",
          "name": "stdout",
          "text": [
            "Mounted at /content/drive\n"
          ]
        }
      ]
    },
    {
      "cell_type": "markdown",
      "id": "4c986239",
      "metadata": {
        "id": "4c986239"
      },
      "source": [
        "reading the dataset and storing it in a Pandas dataframe:"
      ]
    },
    {
      "cell_type": "code",
      "execution_count": null,
      "id": "6ac42e48",
      "metadata": {
        "colab": {
          "base_uri": "https://localhost:8080/",
          "height": 423
        },
        "id": "6ac42e48",
        "outputId": "1ab152d6-7383-44a8-b7aa-da9e8b535c4b"
      },
      "outputs": [
        {
          "output_type": "execute_result",
          "data": {
            "text/html": [
              "\n",
              "  <div id=\"df-ebc9e1fe-62fa-4e87-895b-ab2c9d6f4511\">\n",
              "    <div class=\"colab-df-container\">\n",
              "      <div>\n",
              "<style scoped>\n",
              "    .dataframe tbody tr th:only-of-type {\n",
              "        vertical-align: middle;\n",
              "    }\n",
              "\n",
              "    .dataframe tbody tr th {\n",
              "        vertical-align: top;\n",
              "    }\n",
              "\n",
              "    .dataframe thead th {\n",
              "        text-align: right;\n",
              "    }\n",
              "</style>\n",
              "<table border=\"1\" class=\"dataframe\">\n",
              "  <thead>\n",
              "    <tr style=\"text-align: right;\">\n",
              "      <th></th>\n",
              "      <th>ip</th>\n",
              "      <th>app</th>\n",
              "      <th>device</th>\n",
              "      <th>os</th>\n",
              "      <th>channel</th>\n",
              "      <th>click_time</th>\n",
              "      <th>attributed_time</th>\n",
              "      <th>is_attributed</th>\n",
              "    </tr>\n",
              "  </thead>\n",
              "  <tbody>\n",
              "    <tr>\n",
              "      <th>0</th>\n",
              "      <td>89489</td>\n",
              "      <td>3</td>\n",
              "      <td>1</td>\n",
              "      <td>13</td>\n",
              "      <td>379</td>\n",
              "      <td>2017-11-06 15:13:23</td>\n",
              "      <td>NaN</td>\n",
              "      <td>0</td>\n",
              "    </tr>\n",
              "    <tr>\n",
              "      <th>1</th>\n",
              "      <td>204158</td>\n",
              "      <td>35</td>\n",
              "      <td>1</td>\n",
              "      <td>13</td>\n",
              "      <td>21</td>\n",
              "      <td>2017-11-06 15:41:07</td>\n",
              "      <td>2017-11-07 08:17:19</td>\n",
              "      <td>1</td>\n",
              "    </tr>\n",
              "    <tr>\n",
              "      <th>2</th>\n",
              "      <td>3437</td>\n",
              "      <td>6</td>\n",
              "      <td>1</td>\n",
              "      <td>13</td>\n",
              "      <td>459</td>\n",
              "      <td>2017-11-06 15:42:32</td>\n",
              "      <td>NaN</td>\n",
              "      <td>0</td>\n",
              "    </tr>\n",
              "    <tr>\n",
              "      <th>3</th>\n",
              "      <td>167543</td>\n",
              "      <td>3</td>\n",
              "      <td>1</td>\n",
              "      <td>13</td>\n",
              "      <td>379</td>\n",
              "      <td>2017-11-06 15:56:17</td>\n",
              "      <td>NaN</td>\n",
              "      <td>0</td>\n",
              "    </tr>\n",
              "    <tr>\n",
              "      <th>4</th>\n",
              "      <td>147509</td>\n",
              "      <td>3</td>\n",
              "      <td>1</td>\n",
              "      <td>13</td>\n",
              "      <td>379</td>\n",
              "      <td>2017-11-06 15:57:01</td>\n",
              "      <td>NaN</td>\n",
              "      <td>0</td>\n",
              "    </tr>\n",
              "    <tr>\n",
              "      <th>...</th>\n",
              "      <td>...</td>\n",
              "      <td>...</td>\n",
              "      <td>...</td>\n",
              "      <td>...</td>\n",
              "      <td>...</td>\n",
              "      <td>...</td>\n",
              "      <td>...</td>\n",
              "      <td>...</td>\n",
              "    </tr>\n",
              "    <tr>\n",
              "      <th>2300556</th>\n",
              "      <td>32457</td>\n",
              "      <td>2</td>\n",
              "      <td>1</td>\n",
              "      <td>19</td>\n",
              "      <td>477</td>\n",
              "      <td>2017-11-09 15:59:59</td>\n",
              "      <td>NaN</td>\n",
              "      <td>0</td>\n",
              "    </tr>\n",
              "    <tr>\n",
              "      <th>2300557</th>\n",
              "      <td>20266</td>\n",
              "      <td>14</td>\n",
              "      <td>1</td>\n",
              "      <td>13</td>\n",
              "      <td>446</td>\n",
              "      <td>2017-11-09 15:59:59</td>\n",
              "      <td>NaN</td>\n",
              "      <td>0</td>\n",
              "    </tr>\n",
              "    <tr>\n",
              "      <th>2300558</th>\n",
              "      <td>49383</td>\n",
              "      <td>12</td>\n",
              "      <td>2</td>\n",
              "      <td>17</td>\n",
              "      <td>178</td>\n",
              "      <td>2017-11-09 16:00:00</td>\n",
              "      <td>NaN</td>\n",
              "      <td>0</td>\n",
              "    </tr>\n",
              "    <tr>\n",
              "      <th>2300559</th>\n",
              "      <td>34894</td>\n",
              "      <td>12</td>\n",
              "      <td>1</td>\n",
              "      <td>15</td>\n",
              "      <td>145</td>\n",
              "      <td>2017-11-09 16:00:00</td>\n",
              "      <td>NaN</td>\n",
              "      <td>0</td>\n",
              "    </tr>\n",
              "    <tr>\n",
              "      <th>2300560</th>\n",
              "      <td>232000</td>\n",
              "      <td>9</td>\n",
              "      <td>1</td>\n",
              "      <td>19</td>\n",
              "      <td>134</td>\n",
              "      <td>2017-11-09 16:00:00</td>\n",
              "      <td>NaN</td>\n",
              "      <td>0</td>\n",
              "    </tr>\n",
              "  </tbody>\n",
              "</table>\n",
              "<p>2300561 rows × 8 columns</p>\n",
              "</div>\n",
              "      <button class=\"colab-df-convert\" onclick=\"convertToInteractive('df-ebc9e1fe-62fa-4e87-895b-ab2c9d6f4511')\"\n",
              "              title=\"Convert this dataframe to an interactive table.\"\n",
              "              style=\"display:none;\">\n",
              "        \n",
              "  <svg xmlns=\"http://www.w3.org/2000/svg\" height=\"24px\"viewBox=\"0 0 24 24\"\n",
              "       width=\"24px\">\n",
              "    <path d=\"M0 0h24v24H0V0z\" fill=\"none\"/>\n",
              "    <path d=\"M18.56 5.44l.94 2.06.94-2.06 2.06-.94-2.06-.94-.94-2.06-.94 2.06-2.06.94zm-11 1L8.5 8.5l.94-2.06 2.06-.94-2.06-.94L8.5 2.5l-.94 2.06-2.06.94zm10 10l.94 2.06.94-2.06 2.06-.94-2.06-.94-.94-2.06-.94 2.06-2.06.94z\"/><path d=\"M17.41 7.96l-1.37-1.37c-.4-.4-.92-.59-1.43-.59-.52 0-1.04.2-1.43.59L10.3 9.45l-7.72 7.72c-.78.78-.78 2.05 0 2.83L4 21.41c.39.39.9.59 1.41.59.51 0 1.02-.2 1.41-.59l7.78-7.78 2.81-2.81c.8-.78.8-2.07 0-2.86zM5.41 20L4 18.59l7.72-7.72 1.47 1.35L5.41 20z\"/>\n",
              "  </svg>\n",
              "      </button>\n",
              "      \n",
              "  <style>\n",
              "    .colab-df-container {\n",
              "      display:flex;\n",
              "      flex-wrap:wrap;\n",
              "      gap: 12px;\n",
              "    }\n",
              "\n",
              "    .colab-df-convert {\n",
              "      background-color: #E8F0FE;\n",
              "      border: none;\n",
              "      border-radius: 50%;\n",
              "      cursor: pointer;\n",
              "      display: none;\n",
              "      fill: #1967D2;\n",
              "      height: 32px;\n",
              "      padding: 0 0 0 0;\n",
              "      width: 32px;\n",
              "    }\n",
              "\n",
              "    .colab-df-convert:hover {\n",
              "      background-color: #E2EBFA;\n",
              "      box-shadow: 0px 1px 2px rgba(60, 64, 67, 0.3), 0px 1px 3px 1px rgba(60, 64, 67, 0.15);\n",
              "      fill: #174EA6;\n",
              "    }\n",
              "\n",
              "    [theme=dark] .colab-df-convert {\n",
              "      background-color: #3B4455;\n",
              "      fill: #D2E3FC;\n",
              "    }\n",
              "\n",
              "    [theme=dark] .colab-df-convert:hover {\n",
              "      background-color: #434B5C;\n",
              "      box-shadow: 0px 1px 3px 1px rgba(0, 0, 0, 0.15);\n",
              "      filter: drop-shadow(0px 1px 2px rgba(0, 0, 0, 0.3));\n",
              "      fill: #FFFFFF;\n",
              "    }\n",
              "  </style>\n",
              "\n",
              "      <script>\n",
              "        const buttonEl =\n",
              "          document.querySelector('#df-ebc9e1fe-62fa-4e87-895b-ab2c9d6f4511 button.colab-df-convert');\n",
              "        buttonEl.style.display =\n",
              "          google.colab.kernel.accessAllowed ? 'block' : 'none';\n",
              "\n",
              "        async function convertToInteractive(key) {\n",
              "          const element = document.querySelector('#df-ebc9e1fe-62fa-4e87-895b-ab2c9d6f4511');\n",
              "          const dataTable =\n",
              "            await google.colab.kernel.invokeFunction('convertToInteractive',\n",
              "                                                     [key], {});\n",
              "          if (!dataTable) return;\n",
              "\n",
              "          const docLinkHtml = 'Like what you see? Visit the ' +\n",
              "            '<a target=\"_blank\" href=https://colab.research.google.com/notebooks/data_table.ipynb>data table notebook</a>'\n",
              "            + ' to learn more about interactive tables.';\n",
              "          element.innerHTML = '';\n",
              "          dataTable['output_type'] = 'display_data';\n",
              "          await google.colab.output.renderOutput(dataTable, element);\n",
              "          const docLink = document.createElement('div');\n",
              "          docLink.innerHTML = docLinkHtml;\n",
              "          element.appendChild(docLink);\n",
              "        }\n",
              "      </script>\n",
              "    </div>\n",
              "  </div>\n",
              "  "
            ],
            "text/plain": [
              "             ip  app  ...      attributed_time  is_attributed\n",
              "0         89489    3  ...                  NaN              0\n",
              "1        204158   35  ...  2017-11-07 08:17:19              1\n",
              "2          3437    6  ...                  NaN              0\n",
              "3        167543    3  ...                  NaN              0\n",
              "4        147509    3  ...                  NaN              0\n",
              "...         ...  ...  ...                  ...            ...\n",
              "2300556   32457    2  ...                  NaN              0\n",
              "2300557   20266   14  ...                  NaN              0\n",
              "2300558   49383   12  ...                  NaN              0\n",
              "2300559   34894   12  ...                  NaN              0\n",
              "2300560  232000    9  ...                  NaN              0\n",
              "\n",
              "[2300561 rows x 8 columns]"
            ]
          },
          "metadata": {},
          "execution_count": 3
        }
      ],
      "source": [
        "df = pd.read_csv('/content/drive/MyDrive/files/train_sample.csv')\n",
        "df"
      ]
    },
    {
      "cell_type": "markdown",
      "id": "c708b1d0",
      "metadata": {
        "id": "c708b1d0"
      },
      "source": [
        "### EDA"
      ]
    },
    {
      "cell_type": "markdown",
      "id": "28e824bd",
      "metadata": {
        "id": "28e824bd"
      },
      "source": [
        "checking information of the dataframe:"
      ]
    },
    {
      "cell_type": "code",
      "execution_count": null,
      "id": "c1ecf22a",
      "metadata": {
        "colab": {
          "base_uri": "https://localhost:8080/"
        },
        "id": "c1ecf22a",
        "outputId": "b9ff9458-49bf-4219-af22-53c1ff544132"
      },
      "outputs": [
        {
          "output_type": "stream",
          "name": "stdout",
          "text": [
            "<class 'pandas.core.frame.DataFrame'>\n",
            "RangeIndex: 2300561 entries, 0 to 2300560\n",
            "Data columns (total 8 columns):\n",
            " #   Column           Dtype \n",
            "---  ------           ----- \n",
            " 0   ip               int64 \n",
            " 1   app              int64 \n",
            " 2   device           int64 \n",
            " 3   os               int64 \n",
            " 4   channel          int64 \n",
            " 5   click_time       object\n",
            " 6   attributed_time  object\n",
            " 7   is_attributed    int64 \n",
            "dtypes: int64(6), object(2)\n",
            "memory usage: 140.4+ MB\n"
          ]
        }
      ],
      "source": [
        "df.info()"
      ]
    },
    {
      "cell_type": "markdown",
      "id": "bb25b4e0",
      "metadata": {
        "id": "bb25b4e0"
      },
      "source": [
        "checking to see if there are any Nan values in the dataframe:"
      ]
    },
    {
      "cell_type": "code",
      "execution_count": null,
      "id": "a691d6dd",
      "metadata": {
        "colab": {
          "base_uri": "https://localhost:8080/"
        },
        "id": "a691d6dd",
        "outputId": "18106576-ca0b-4eed-92c2-5f746907aa2f"
      },
      "outputs": [
        {
          "output_type": "execute_result",
          "data": {
            "text/plain": [
              "ip                       0\n",
              "app                      0\n",
              "device                   0\n",
              "os                       0\n",
              "channel                  0\n",
              "click_time               0\n",
              "attributed_time    1843715\n",
              "is_attributed            0\n",
              "dtype: int64"
            ]
          },
          "metadata": {},
          "execution_count": 5
        }
      ],
      "source": [
        "df.isna().sum()"
      ]
    },
    {
      "cell_type": "markdown",
      "id": "58313d5d",
      "metadata": {
        "id": "58313d5d"
      },
      "source": [
        "only \"attributed_time\" column has Nan values. Let's check the target column:"
      ]
    },
    {
      "cell_type": "code",
      "execution_count": null,
      "id": "f7084bb6",
      "metadata": {
        "colab": {
          "base_uri": "https://localhost:8080/"
        },
        "id": "f7084bb6",
        "outputId": "1ce59c42-7add-4318-c5ba-e8dc19c959f9"
      },
      "outputs": [
        {
          "output_type": "execute_result",
          "data": {
            "text/plain": [
              "0    1843715\n",
              "1     456846\n",
              "Name: is_attributed, dtype: int64"
            ]
          },
          "metadata": {},
          "execution_count": 6
        }
      ],
      "source": [
        "# how many instances per value in \"is_attributed\" column\n",
        "df['is_attributed'].value_counts()"
      ]
    },
    {
      "cell_type": "markdown",
      "id": "911a2e9c",
      "metadata": {
        "id": "911a2e9c"
      },
      "source": [
        "the number of Nans in the \"attributed_time\" column is equal to number of rows with 0 value in their target column. this is because there is no attributed_time for people who didn't do the downloading. so, Nan values aren't missing information here, it's just a nonexisting parameter for some rows. we'll deal with this later."
      ]
    },
    {
      "cell_type": "markdown",
      "id": "102b1c96",
      "metadata": {
        "id": "102b1c96"
      },
      "source": [
        "let's check the distribution of the target column:"
      ]
    },
    {
      "cell_type": "code",
      "execution_count": null,
      "id": "7b482564",
      "metadata": {
        "colab": {
          "base_uri": "https://localhost:8080/",
          "height": 386
        },
        "id": "7b482564",
        "outputId": "18a936c8-7199-4379-bf8d-badf4207a68f"
      },
      "outputs": [
        {
          "output_type": "execute_result",
          "data": {
            "text/plain": [
              "<seaborn.axisgrid.FacetGrid at 0x7f6247395310>"
            ]
          },
          "metadata": {},
          "execution_count": 7
        },
        {
          "output_type": "display_data",
          "data": {
            "image/png": "[encoded data removed]",
            "text/plain": [
              "<Figure size 360x360 with 1 Axes>"
            ]
          },
          "metadata": {}
        }
      ],
      "source": [
        "sns.set_style('darkgrid')\n",
        "sns.displot(df['is_attributed'])"
      ]
    },
    {
      "cell_type": "markdown",
      "id": "34e9394b",
      "metadata": {
        "id": "34e9394b"
      },
      "source": [
        "so, it seems that there are way more instances that didn't download the app and the dataset is imbalanced. we should consider this issue later on."
      ]
    },
    {
      "cell_type": "markdown",
      "id": "b598780d",
      "metadata": {
        "id": "b598780d"
      },
      "source": [
        "printing the unique values and total number of unique values per column:"
      ]
    },
    {
      "cell_type": "code",
      "execution_count": null,
      "id": "0eab623e",
      "metadata": {
        "colab": {
          "base_uri": "https://localhost:8080/"
        },
        "id": "0eab623e",
        "outputId": "e8f84685-5ead-435c-f1bf-2fd1920b8099"
      },
      "outputs": [
        {
          "output_type": "stream",
          "name": "stdout",
          "text": [
            "ip [ 89489 204158   3437 ... 313982 331467  60996] 260238\n",
            "\n",
            "app [  3  35   6  15  14   2   1  64  20  22  12   9 110  27  88  17  19  21\n",
            "  72  11  18  26  29 128   8  13  45  10  25  23  28 155  78 136 151  96\n",
            "   5  32 150  36 251  24  85 303  50 167 347  39 115  84 261 125  34 105\n",
            "  37  51  66 121 108  71  57  82  60  52  80 190 120  79 122 148  48 107\n",
            " 127  65  16 215 145 103  99 172 152 175   0 210 154 208 265 170 279  83\n",
            " 481 183 202 231 233 230  86  40 236 143 118   4 361 158 223  81 192  55\n",
            "  95  58 538 130  38 250 166 246  74  91  98 119 256  46 216 484 141  53\n",
            " 551  56 244 109 162 207 383 112 188 197 232 395  33 255 185  76 195 181\n",
            " 436 206 326 333  89 292 173 114 266 241  47 525 536  54 146  68 320 134\n",
            "  59 315 177 386 165 133  49 224 237 163 283  62 242 102  42 363  93 443\n",
            " 240 381 557  94 268 100 203 137 176 160 153  43 124 537 419 346 194 196\n",
            " 116 142 182 101  97 358  87  61 534 258 364  31  90 111 272 123 149 319\n",
            " 336 174 267 171 394 615 304 252 541 161   7 559 322 535 379 184 431 573\n",
            " 366 384 634  70 310 554 552 280 556 140 539 640 569  67 193 334 273 570\n",
            " 398 296 475 407 312 627 365 317 342 213 284 297 222 550 144  75 204 362\n",
            " 359 291 293 644 259 117 104 328  92 548 260 624 547 221 264 425 247 323\n",
            " 618 168 295 186 502 512 542 429 401 226 200 214 656 239 314 257 290 238\n",
            " 338 289 349 497  73 302 370 702 139 495 132 614 286 375 135 736 191 701\n",
            " 493 492 731 670 159 448 340 441 575 617 308 211 681 712 198 164 343 738\n",
            " 711 494 254 277 281 325 368 248 249  44 282 212 327 562 672 353 565 330\n",
            " 489 245 324  30  41 768 753 169 263 371 360 718 392 474 313 763 757 734\n",
            " 435 218 743 253  69 235 385 199 350 269 278] 389\n",
            "\n",
            "device [   1 3032    2 ... 3753 3345 2032] 1918\n",
            "\n",
            "os [ 13  25   8  15  19  37  10  22  17 607  40  46   9  20  14  24  41  23\n",
            "  48  35   6  18  26  27  12  47  53   2  44  16  21  36   3   7  28  11\n",
            "  67  38  34   1   0  29   4  49  30  31  39  32  73  98  80  58  77  42\n",
            "  69  50  84  70  43  79  65  52  96   5  72  76  66  56  90  59  64  57\n",
            " 438 155  62 112 109  97  92 149 260 118 603  55 132  85 113  81 183  60\n",
            " 100  63 104  86  74 135  89 120 152 102 107  61 110 134 137  83  71 174\n",
            " 129 117  78 130 111  75  95  87 123 145 305 171 108 119 124  88 101 146\n",
            " 223  54 141 184 217 214 156 297 151 103 148 105 106  68 168 188 158 142\n",
            " 126 133 733  91 128 242 153 658 127 703 172 198 114 147 209 178 138  94\n",
            "  99 314 121 614 159 140 316 163 196 676 164 162 245 336 284 143 173 122\n",
            " 281 652 191 116 358 562 683 748 177 300 207 208 215 302 131 175  93 228\n",
            " 566 185 125 412 326 115 254 192 346 199 213 237 219 233 154 810 866 251\n",
            " 689 248 455 169 435  45 231 157 857 252 193 181 372 306 373 911] 232\n",
            "\n",
            "channel [379  21 459 153 477 150 205 259 116 245 178 215 402 210 280 274 347 328\n",
            " 125 489 212 442 243 401 439 219 128 134 101 480 122 234 435 319 107 137\n",
            " 266 349 424 213 123 386 145 400 258 124 466 140   3 130 315 265 469 481\n",
            " 135  19 115 121 452 242 417 282 236 278 211 487 224 268 113 497 463 377\n",
            " 237 232 110 326 409  17 343 111 364 317 173 371 478 244 333 203 467 412\n",
            " 430 341 451 445 325 446 105 376 411 171 407 320 108 414 373  13 334 421\n",
            " 330 225 449 253 160 120 126 261 340 456 360  30 406 182  24 277   0 416\n",
            " 332 460 118 181  22 479 484 420 222 129 498 281 311 361 353 410 391 453\n",
            " 450 457 208 356 488 419   4 272  18 262 496 174 486   5 408 114 483  15\n",
            " 465 169 251  14 455 471 352 223 458 127 216 162 233 138 448 490 322 404\n",
            " 474] 181\n",
            "\n",
            "click_time ['2017-11-06 15:13:23' '2017-11-06 15:41:07' '2017-11-06 15:42:32' ...\n",
            " '2017-11-09 15:59:58' '2017-11-09 15:59:59' '2017-11-09 16:00:00'] 251267\n",
            "\n",
            "attributed_time [nan '2017-11-07 08:17:19' '2017-11-07 10:05:22' ... '2017-11-09 15:59:33'\n",
            " '2017-11-09 15:59:16' '2017-11-09 15:59:57'] 182057\n",
            "\n",
            "is_attributed [0 1] 2\n",
            "\n"
          ]
        }
      ],
      "source": [
        "for i in df.columns:\n",
        "    print(i, df[i].unique(), df[i].nunique())\n",
        "    print()"
      ]
    },
    {
      "cell_type": "markdown",
      "id": "d4709bf5",
      "metadata": {
        "id": "d4709bf5"
      },
      "source": [
        "here we find out that there are plenty of unique values in feature columns. also they are not of the same scale; there is a wide range of numbers from single digit numbers to thousands in these columns. \"click_time\" and \"attributed_time\" have string values which should be handled."
      ]
    },
    {
      "cell_type": "markdown",
      "id": "bf6061e1",
      "metadata": {
        "id": "bf6061e1"
      },
      "source": [
        "### preprocessing"
      ]
    },
    {
      "cell_type": "markdown",
      "id": "bee3cf19",
      "metadata": {
        "id": "bee3cf19"
      },
      "source": [
        "first, let's convert \"click_time\" from string to datetime format:"
      ]
    },
    {
      "cell_type": "code",
      "execution_count": null,
      "id": "988bbe8c",
      "metadata": {
        "id": "988bbe8c"
      },
      "outputs": [],
      "source": [
        "df['click_time'] = pd.to_datetime(df['click_time'], format='%Y-%m-%d %H:%M:%S')"
      ]
    },
    {
      "cell_type": "markdown",
      "id": "7532d5e6",
      "metadata": {
        "id": "7532d5e6"
      },
      "source": [
        "now separate each part of datetime and put it in a separate column and add it to dataframe: <br>\n",
        "I ignored minute and second because they are too much of detail and differing in a minute or second doesn't play a role in downloading an app."
      ]
    },
    {
      "cell_type": "code",
      "execution_count": null,
      "id": "cb8f4b73",
      "metadata": {
        "id": "cb8f4b73"
      },
      "outputs": [],
      "source": [
        "df['year'] = [d.date().year for d in df['click_time']]  # year\n",
        "df['month'] = [d.date().month for d in df['click_time']]  # month\n",
        "df['day'] = [d.date().day for d in df['click_time']]   # day\n",
        "df['hour'] = [d.time().hour for d in df['click_time']]  # hour"
      ]
    },
    {
      "cell_type": "code",
      "execution_count": null,
      "id": "4e815aa4",
      "metadata": {
        "colab": {
          "base_uri": "https://localhost:8080/",
          "height": 423
        },
        "id": "4e815aa4",
        "outputId": "1d5bfa3b-7a3b-4db9-e8a2-686ca073dd1c"
      },
      "outputs": [
        {
          "output_type": "execute_result",
          "data": {
            "text/html": [
              "\n",
              "  <div id=\"df-c72515cb-6a7e-4b06-87ac-8770550c3fca\">\n",
              "    <div class=\"colab-df-container\">\n",
              "      <div>\n",
              "<style scoped>\n",
              "    .dataframe tbody tr th:only-of-type {\n",
              "        vertical-align: middle;\n",
              "    }\n",
              "\n",
              "    .dataframe tbody tr th {\n",
              "        vertical-align: top;\n",
              "    }\n",
              "\n",
              "    .dataframe thead th {\n",
              "        text-align: right;\n",
              "    }\n",
              "</style>\n",
              "<table border=\"1\" class=\"dataframe\">\n",
              "  <thead>\n",
              "    <tr style=\"text-align: right;\">\n",
              "      <th></th>\n",
              "      <th>ip</th>\n",
              "      <th>app</th>\n",
              "      <th>device</th>\n",
              "      <th>os</th>\n",
              "      <th>channel</th>\n",
              "      <th>click_time</th>\n",
              "      <th>attributed_time</th>\n",
              "      <th>is_attributed</th>\n",
              "      <th>year</th>\n",
              "      <th>month</th>\n",
              "      <th>day</th>\n",
              "      <th>hour</th>\n",
              "    </tr>\n",
              "  </thead>\n",
              "  <tbody>\n",
              "    <tr>\n",
              "      <th>0</th>\n",
              "      <td>89489</td>\n",
              "      <td>3</td>\n",
              "      <td>1</td>\n",
              "      <td>13</td>\n",
              "      <td>379</td>\n",
              "      <td>2017-11-06 15:13:23</td>\n",
              "      <td>NaN</td>\n",
              "      <td>0</td>\n",
              "      <td>2017</td>\n",
              "      <td>11</td>\n",
              "      <td>6</td>\n",
              "      <td>15</td>\n",
              "    </tr>\n",
              "    <tr>\n",
              "      <th>1</th>\n",
              "      <td>204158</td>\n",
              "      <td>35</td>\n",
              "      <td>1</td>\n",
              "      <td>13</td>\n",
              "      <td>21</td>\n",
              "      <td>2017-11-06 15:41:07</td>\n",
              "      <td>2017-11-07 08:17:19</td>\n",
              "      <td>1</td>\n",
              "      <td>2017</td>\n",
              "      <td>11</td>\n",
              "      <td>6</td>\n",
              "      <td>15</td>\n",
              "    </tr>\n",
              "    <tr>\n",
              "      <th>2</th>\n",
              "      <td>3437</td>\n",
              "      <td>6</td>\n",
              "      <td>1</td>\n",
              "      <td>13</td>\n",
              "      <td>459</td>\n",
              "      <td>2017-11-06 15:42:32</td>\n",
              "      <td>NaN</td>\n",
              "      <td>0</td>\n",
              "      <td>2017</td>\n",
              "      <td>11</td>\n",
              "      <td>6</td>\n",
              "      <td>15</td>\n",
              "    </tr>\n",
              "    <tr>\n",
              "      <th>3</th>\n",
              "      <td>167543</td>\n",
              "      <td>3</td>\n",
              "      <td>1</td>\n",
              "      <td>13</td>\n",
              "      <td>379</td>\n",
              "      <td>2017-11-06 15:56:17</td>\n",
              "      <td>NaN</td>\n",
              "      <td>0</td>\n",
              "      <td>2017</td>\n",
              "      <td>11</td>\n",
              "      <td>6</td>\n",
              "      <td>15</td>\n",
              "    </tr>\n",
              "    <tr>\n",
              "      <th>4</th>\n",
              "      <td>147509</td>\n",
              "      <td>3</td>\n",
              "      <td>1</td>\n",
              "      <td>13</td>\n",
              "      <td>379</td>\n",
              "      <td>2017-11-06 15:57:01</td>\n",
              "      <td>NaN</td>\n",
              "      <td>0</td>\n",
              "      <td>2017</td>\n",
              "      <td>11</td>\n",
              "      <td>6</td>\n",
              "      <td>15</td>\n",
              "    </tr>\n",
              "    <tr>\n",
              "      <th>...</th>\n",
              "      <td>...</td>\n",
              "      <td>...</td>\n",
              "      <td>...</td>\n",
              "      <td>...</td>\n",
              "      <td>...</td>\n",
              "      <td>...</td>\n",
              "      <td>...</td>\n",
              "      <td>...</td>\n",
              "      <td>...</td>\n",
              "      <td>...</td>\n",
              "      <td>...</td>\n",
              "      <td>...</td>\n",
              "    </tr>\n",
              "    <tr>\n",
              "      <th>2300556</th>\n",
              "      <td>32457</td>\n",
              "      <td>2</td>\n",
              "      <td>1</td>\n",
              "      <td>19</td>\n",
              "      <td>477</td>\n",
              "      <td>2017-11-09 15:59:59</td>\n",
              "      <td>NaN</td>\n",
              "      <td>0</td>\n",
              "      <td>2017</td>\n",
              "      <td>11</td>\n",
              "      <td>9</td>\n",
              "      <td>15</td>\n",
              "    </tr>\n",
              "    <tr>\n",
              "      <th>2300557</th>\n",
              "      <td>20266</td>\n",
              "      <td>14</td>\n",
              "      <td>1</td>\n",
              "      <td>13</td>\n",
              "      <td>446</td>\n",
              "      <td>2017-11-09 15:59:59</td>\n",
              "      <td>NaN</td>\n",
              "      <td>0</td>\n",
              "      <td>2017</td>\n",
              "      <td>11</td>\n",
              "      <td>9</td>\n",
              "      <td>15</td>\n",
              "    </tr>\n",
              "    <tr>\n",
              "      <th>2300558</th>\n",
              "      <td>49383</td>\n",
              "      <td>12</td>\n",
              "      <td>2</td>\n",
              "      <td>17</td>\n",
              "      <td>178</td>\n",
              "      <td>2017-11-09 16:00:00</td>\n",
              "      <td>NaN</td>\n",
              "      <td>0</td>\n",
              "      <td>2017</td>\n",
              "      <td>11</td>\n",
              "      <td>9</td>\n",
              "      <td>16</td>\n",
              "    </tr>\n",
              "    <tr>\n",
              "      <th>2300559</th>\n",
              "      <td>34894</td>\n",
              "      <td>12</td>\n",
              "      <td>1</td>\n",
              "      <td>15</td>\n",
              "      <td>145</td>\n",
              "      <td>2017-11-09 16:00:00</td>\n",
              "      <td>NaN</td>\n",
              "      <td>0</td>\n",
              "      <td>2017</td>\n",
              "      <td>11</td>\n",
              "      <td>9</td>\n",
              "      <td>16</td>\n",
              "    </tr>\n",
              "    <tr>\n",
              "      <th>2300560</th>\n",
              "      <td>232000</td>\n",
              "      <td>9</td>\n",
              "      <td>1</td>\n",
              "      <td>19</td>\n",
              "      <td>134</td>\n",
              "      <td>2017-11-09 16:00:00</td>\n",
              "      <td>NaN</td>\n",
              "      <td>0</td>\n",
              "      <td>2017</td>\n",
              "      <td>11</td>\n",
              "      <td>9</td>\n",
              "      <td>16</td>\n",
              "    </tr>\n",
              "  </tbody>\n",
              "</table>\n",
              "<p>2300561 rows × 12 columns</p>\n",
              "</div>\n",
              "      <button class=\"colab-df-convert\" onclick=\"convertToInteractive('df-c72515cb-6a7e-4b06-87ac-8770550c3fca')\"\n",
              "              title=\"Convert this dataframe to an interactive table.\"\n",
              "              style=\"display:none;\">\n",
              "        \n",
              "  <svg xmlns=\"http://www.w3.org/2000/svg\" height=\"24px\"viewBox=\"0 0 24 24\"\n",
              "       width=\"24px\">\n",
              "    <path d=\"M0 0h24v24H0V0z\" fill=\"none\"/>\n",
              "    <path d=\"M18.56 5.44l.94 2.06.94-2.06 2.06-.94-2.06-.94-.94-2.06-.94 2.06-2.06.94zm-11 1L8.5 8.5l.94-2.06 2.06-.94-2.06-.94L8.5 2.5l-.94 2.06-2.06.94zm10 10l.94 2.06.94-2.06 2.06-.94-2.06-.94-.94-2.06-.94 2.06-2.06.94z\"/><path d=\"M17.41 7.96l-1.37-1.37c-.4-.4-.92-.59-1.43-.59-.52 0-1.04.2-1.43.59L10.3 9.45l-7.72 7.72c-.78.78-.78 2.05 0 2.83L4 21.41c.39.39.9.59 1.41.59.51 0 1.02-.2 1.41-.59l7.78-7.78 2.81-2.81c.8-.78.8-2.07 0-2.86zM5.41 20L4 18.59l7.72-7.72 1.47 1.35L5.41 20z\"/>\n",
              "  </svg>\n",
              "      </button>\n",
              "      \n",
              "  <style>\n",
              "    .colab-df-container {\n",
              "      display:flex;\n",
              "      flex-wrap:wrap;\n",
              "      gap: 12px;\n",
              "    }\n",
              "\n",
              "    .colab-df-convert {\n",
              "      background-color: #E8F0FE;\n",
              "      border: none;\n",
              "      border-radius: 50%;\n",
              "      cursor: pointer;\n",
              "      display: none;\n",
              "      fill: #1967D2;\n",
              "      height: 32px;\n",
              "      padding: 0 0 0 0;\n",
              "      width: 32px;\n",
              "    }\n",
              "\n",
              "    .colab-df-convert:hover {\n",
              "      background-color: #E2EBFA;\n",
              "      box-shadow: 0px 1px 2px rgba(60, 64, 67, 0.3), 0px 1px 3px 1px rgba(60, 64, 67, 0.15);\n",
              "      fill: #174EA6;\n",
              "    }\n",
              "\n",
              "    [theme=dark] .colab-df-convert {\n",
              "      background-color: #3B4455;\n",
              "      fill: #D2E3FC;\n",
              "    }\n",
              "\n",
              "    [theme=dark] .colab-df-convert:hover {\n",
              "      background-color: #434B5C;\n",
              "      box-shadow: 0px 1px 3px 1px rgba(0, 0, 0, 0.15);\n",
              "      filter: drop-shadow(0px 1px 2px rgba(0, 0, 0, 0.3));\n",
              "      fill: #FFFFFF;\n",
              "    }\n",
              "  </style>\n",
              "\n",
              "      <script>\n",
              "        const buttonEl =\n",
              "          document.querySelector('#df-c72515cb-6a7e-4b06-87ac-8770550c3fca button.colab-df-convert');\n",
              "        buttonEl.style.display =\n",
              "          google.colab.kernel.accessAllowed ? 'block' : 'none';\n",
              "\n",
              "        async function convertToInteractive(key) {\n",
              "          const element = document.querySelector('#df-c72515cb-6a7e-4b06-87ac-8770550c3fca');\n",
              "          const dataTable =\n",
              "            await google.colab.kernel.invokeFunction('convertToInteractive',\n",
              "                                                     [key], {});\n",
              "          if (!dataTable) return;\n",
              "\n",
              "          const docLinkHtml = 'Like what you see? Visit the ' +\n",
              "            '<a target=\"_blank\" href=https://colab.research.google.com/notebooks/data_table.ipynb>data table notebook</a>'\n",
              "            + ' to learn more about interactive tables.';\n",
              "          element.innerHTML = '';\n",
              "          dataTable['output_type'] = 'display_data';\n",
              "          await google.colab.output.renderOutput(dataTable, element);\n",
              "          const docLink = document.createElement('div');\n",
              "          docLink.innerHTML = docLinkHtml;\n",
              "          element.appendChild(docLink);\n",
              "        }\n",
              "      </script>\n",
              "    </div>\n",
              "  </div>\n",
              "  "
            ],
            "text/plain": [
              "             ip  app  device  os  ...  year month day  hour\n",
              "0         89489    3       1  13  ...  2017    11   6    15\n",
              "1        204158   35       1  13  ...  2017    11   6    15\n",
              "2          3437    6       1  13  ...  2017    11   6    15\n",
              "3        167543    3       1  13  ...  2017    11   6    15\n",
              "4        147509    3       1  13  ...  2017    11   6    15\n",
              "...         ...  ...     ...  ..  ...   ...   ...  ..   ...\n",
              "2300556   32457    2       1  19  ...  2017    11   9    15\n",
              "2300557   20266   14       1  13  ...  2017    11   9    15\n",
              "2300558   49383   12       2  17  ...  2017    11   9    16\n",
              "2300559   34894   12       1  15  ...  2017    11   9    16\n",
              "2300560  232000    9       1  19  ...  2017    11   9    16\n",
              "\n",
              "[2300561 rows x 12 columns]"
            ]
          },
          "metadata": {},
          "execution_count": 11
        }
      ],
      "source": [
        "df"
      ]
    },
    {
      "cell_type": "markdown",
      "id": "011c7b1a",
      "metadata": {
        "id": "011c7b1a"
      },
      "source": [
        "playing around with columns, I realized that there is only one value in \"year\" and \"month\" columns, so they are considered constants and I'll eliminate them later on. <br>\n",
        "on the other hand, \"day\" and \"hour\" consist of various values and by plotting them against target column I realized that they do result in different target values. so, we'll keep them."
      ]
    },
    {
      "cell_type": "code",
      "execution_count": null,
      "id": "84933098",
      "metadata": {
        "colab": {
          "base_uri": "https://localhost:8080/",
          "height": 356
        },
        "id": "84933098",
        "outputId": "aab05ca8-5c90-415e-e995-688bbc136d05"
      },
      "outputs": [
        {
          "output_type": "execute_result",
          "data": {
            "text/plain": [
              "<matplotlib.axes._subplots.AxesSubplot at 0x7f6221515250>"
            ]
          },
          "metadata": {},
          "execution_count": 12
        },
        {
          "output_type": "display_data",
          "data": {
            "image/png": "[encoded data removed]",
            "text/plain": [
              "<Figure size 576x360 with 1 Axes>"
            ]
          },
          "metadata": {}
        }
      ],
      "source": [
        "sns.set(rc = {'figure.figsize':(8,5)})\n",
        "sns.countplot(x='day', data=df, hue='is_attributed')"
      ]
    },
    {
      "cell_type": "code",
      "execution_count": null,
      "id": "aad22542",
      "metadata": {
        "colab": {
          "base_uri": "https://localhost:8080/",
          "height": 356
        },
        "id": "aad22542",
        "outputId": "04c8d382-efd5-422a-b82c-fbb9e14d86a4"
      },
      "outputs": [
        {
          "output_type": "execute_result",
          "data": {
            "text/plain": [
              "<matplotlib.axes._subplots.AxesSubplot at 0x7f6221512890>"
            ]
          },
          "metadata": {},
          "execution_count": 13
        },
        {
          "output_type": "display_data",
          "data": {
            "image/png": "[encoded data removed]",
            "text/plain": [
              "<Figure size 792x360 with 1 Axes>"
            ]
          },
          "metadata": {}
        }
      ],
      "source": [
        "sns.set(rc = {'figure.figsize':(11,5)})\n",
        "sns.countplot(x='hour', data=df, hue='is_attributed')"
      ]
    },
    {
      "cell_type": "code",
      "execution_count": null,
      "id": "240533cd",
      "metadata": {
        "colab": {
          "base_uri": "https://localhost:8080/"
        },
        "id": "240533cd",
        "outputId": "b2017d05-ddaf-4160-a930-1a882a6390ce"
      },
      "outputs": [
        {
          "output_type": "execute_result",
          "data": {
            "text/plain": [
              "array([2017])"
            ]
          },
          "metadata": {},
          "execution_count": 14
        }
      ],
      "source": [
        "# unique values in year\n",
        "df['year'].unique()"
      ]
    },
    {
      "cell_type": "code",
      "execution_count": null,
      "id": "85956281",
      "metadata": {
        "colab": {
          "base_uri": "https://localhost:8080/"
        },
        "id": "85956281",
        "outputId": "8602d58c-ff65-4641-951a-5789a600b423"
      },
      "outputs": [
        {
          "output_type": "execute_result",
          "data": {
            "text/plain": [
              "array([11])"
            ]
          },
          "metadata": {},
          "execution_count": 15
        }
      ],
      "source": [
        "# unique values in month\n",
        "df['month'].unique()"
      ]
    },
    {
      "cell_type": "markdown",
      "id": "09370e10",
      "metadata": {
        "id": "09370e10"
      },
      "source": [
        "dropping useless columns: <br>\n",
        "I explained the reason of eliminating \"year\" and \"month\". <br>\n",
        "I'll also drop \"click_time\" because it's string and I already extracted its data. <br>\n",
        "talking about \"attributed_time\" it doesn't provide any further information. it only shows the time of download for people who downloaded the app. it doesn't help in predicting whether someone will download the app or not, so I'll delete that too!"
      ]
    },
    {
      "cell_type": "code",
      "execution_count": null,
      "id": "59a19223",
      "metadata": {
        "id": "59a19223"
      },
      "outputs": [],
      "source": [
        "df.drop(['click_time', 'attributed_time', 'year', 'month'], axis=1, inplace=True)"
      ]
    },
    {
      "cell_type": "markdown",
      "id": "6a388bc2",
      "metadata": {
        "id": "6a388bc2"
      },
      "source": [
        "this is how the dataframe looks like:"
      ]
    },
    {
      "cell_type": "code",
      "execution_count": null,
      "id": "c7e7cd99",
      "metadata": {
        "colab": {
          "base_uri": "https://localhost:8080/",
          "height": 423
        },
        "id": "c7e7cd99",
        "outputId": "c1702b58-6405-490e-ea61-bd47a6e2f34b"
      },
      "outputs": [
        {
          "output_type": "execute_result",
          "data": {
            "text/html": [
              "\n",
              "  <div id=\"df-66fff419-c525-49cd-a257-2c82cfca3ed3\">\n",
              "    <div class=\"colab-df-container\">\n",
              "      <div>\n",
              "<style scoped>\n",
              "    .dataframe tbody tr th:only-of-type {\n",
              "        vertical-align: middle;\n",
              "    }\n",
              "\n",
              "    .dataframe tbody tr th {\n",
              "        vertical-align: top;\n",
              "    }\n",
              "\n",
              "    .dataframe thead th {\n",
              "        text-align: right;\n",
              "    }\n",
              "</style>\n",
              "<table border=\"1\" class=\"dataframe\">\n",
              "  <thead>\n",
              "    <tr style=\"text-align: right;\">\n",
              "      <th></th>\n",
              "      <th>ip</th>\n",
              "      <th>app</th>\n",
              "      <th>device</th>\n",
              "      <th>os</th>\n",
              "      <th>channel</th>\n",
              "      <th>is_attributed</th>\n",
              "      <th>day</th>\n",
              "      <th>hour</th>\n",
              "    </tr>\n",
              "  </thead>\n",
              "  <tbody>\n",
              "    <tr>\n",
              "      <th>0</th>\n",
              "      <td>89489</td>\n",
              "      <td>3</td>\n",
              "      <td>1</td>\n",
              "      <td>13</td>\n",
              "      <td>379</td>\n",
              "      <td>0</td>\n",
              "      <td>6</td>\n",
              "      <td>15</td>\n",
              "    </tr>\n",
              "    <tr>\n",
              "      <th>1</th>\n",
              "      <td>204158</td>\n",
              "      <td>35</td>\n",
              "      <td>1</td>\n",
              "      <td>13</td>\n",
              "      <td>21</td>\n",
              "      <td>1</td>\n",
              "      <td>6</td>\n",
              "      <td>15</td>\n",
              "    </tr>\n",
              "    <tr>\n",
              "      <th>2</th>\n",
              "      <td>3437</td>\n",
              "      <td>6</td>\n",
              "      <td>1</td>\n",
              "      <td>13</td>\n",
              "      <td>459</td>\n",
              "      <td>0</td>\n",
              "      <td>6</td>\n",
              "      <td>15</td>\n",
              "    </tr>\n",
              "    <tr>\n",
              "      <th>3</th>\n",
              "      <td>167543</td>\n",
              "      <td>3</td>\n",
              "      <td>1</td>\n",
              "      <td>13</td>\n",
              "      <td>379</td>\n",
              "      <td>0</td>\n",
              "      <td>6</td>\n",
              "      <td>15</td>\n",
              "    </tr>\n",
              "    <tr>\n",
              "      <th>4</th>\n",
              "      <td>147509</td>\n",
              "      <td>3</td>\n",
              "      <td>1</td>\n",
              "      <td>13</td>\n",
              "      <td>379</td>\n",
              "      <td>0</td>\n",
              "      <td>6</td>\n",
              "      <td>15</td>\n",
              "    </tr>\n",
              "    <tr>\n",
              "      <th>...</th>\n",
              "      <td>...</td>\n",
              "      <td>...</td>\n",
              "      <td>...</td>\n",
              "      <td>...</td>\n",
              "      <td>...</td>\n",
              "      <td>...</td>\n",
              "      <td>...</td>\n",
              "      <td>...</td>\n",
              "    </tr>\n",
              "    <tr>\n",
              "      <th>2300556</th>\n",
              "      <td>32457</td>\n",
              "      <td>2</td>\n",
              "      <td>1</td>\n",
              "      <td>19</td>\n",
              "      <td>477</td>\n",
              "      <td>0</td>\n",
              "      <td>9</td>\n",
              "      <td>15</td>\n",
              "    </tr>\n",
              "    <tr>\n",
              "      <th>2300557</th>\n",
              "      <td>20266</td>\n",
              "      <td>14</td>\n",
              "      <td>1</td>\n",
              "      <td>13</td>\n",
              "      <td>446</td>\n",
              "      <td>0</td>\n",
              "      <td>9</td>\n",
              "      <td>15</td>\n",
              "    </tr>\n",
              "    <tr>\n",
              "      <th>2300558</th>\n",
              "      <td>49383</td>\n",
              "      <td>12</td>\n",
              "      <td>2</td>\n",
              "      <td>17</td>\n",
              "      <td>178</td>\n",
              "      <td>0</td>\n",
              "      <td>9</td>\n",
              "      <td>16</td>\n",
              "    </tr>\n",
              "    <tr>\n",
              "      <th>2300559</th>\n",
              "      <td>34894</td>\n",
              "      <td>12</td>\n",
              "      <td>1</td>\n",
              "      <td>15</td>\n",
              "      <td>145</td>\n",
              "      <td>0</td>\n",
              "      <td>9</td>\n",
              "      <td>16</td>\n",
              "    </tr>\n",
              "    <tr>\n",
              "      <th>2300560</th>\n",
              "      <td>232000</td>\n",
              "      <td>9</td>\n",
              "      <td>1</td>\n",
              "      <td>19</td>\n",
              "      <td>134</td>\n",
              "      <td>0</td>\n",
              "      <td>9</td>\n",
              "      <td>16</td>\n",
              "    </tr>\n",
              "  </tbody>\n",
              "</table>\n",
              "<p>2300561 rows × 8 columns</p>\n",
              "</div>\n",
              "      <button class=\"colab-df-convert\" onclick=\"convertToInteractive('df-66fff419-c525-49cd-a257-2c82cfca3ed3')\"\n",
              "              title=\"Convert this dataframe to an interactive table.\"\n",
              "              style=\"display:none;\">\n",
              "        \n",
              "  <svg xmlns=\"http://www.w3.org/2000/svg\" height=\"24px\"viewBox=\"0 0 24 24\"\n",
              "       width=\"24px\">\n",
              "    <path d=\"M0 0h24v24H0V0z\" fill=\"none\"/>\n",
              "    <path d=\"M18.56 5.44l.94 2.06.94-2.06 2.06-.94-2.06-.94-.94-2.06-.94 2.06-2.06.94zm-11 1L8.5 8.5l.94-2.06 2.06-.94-2.06-.94L8.5 2.5l-.94 2.06-2.06.94zm10 10l.94 2.06.94-2.06 2.06-.94-2.06-.94-.94-2.06-.94 2.06-2.06.94z\"/><path d=\"M17.41 7.96l-1.37-1.37c-.4-.4-.92-.59-1.43-.59-.52 0-1.04.2-1.43.59L10.3 9.45l-7.72 7.72c-.78.78-.78 2.05 0 2.83L4 21.41c.39.39.9.59 1.41.59.51 0 1.02-.2 1.41-.59l7.78-7.78 2.81-2.81c.8-.78.8-2.07 0-2.86zM5.41 20L4 18.59l7.72-7.72 1.47 1.35L5.41 20z\"/>\n",
              "  </svg>\n",
              "      </button>\n",
              "      \n",
              "  <style>\n",
              "    .colab-df-container {\n",
              "      display:flex;\n",
              "      flex-wrap:wrap;\n",
              "      gap: 12px;\n",
              "    }\n",
              "\n",
              "    .colab-df-convert {\n",
              "      background-color: #E8F0FE;\n",
              "      border: none;\n",
              "      border-radius: 50%;\n",
              "      cursor: pointer;\n",
              "      display: none;\n",
              "      fill: #1967D2;\n",
              "      height: 32px;\n",
              "      padding: 0 0 0 0;\n",
              "      width: 32px;\n",
              "    }\n",
              "\n",
              "    .colab-df-convert:hover {\n",
              "      background-color: #E2EBFA;\n",
              "      box-shadow: 0px 1px 2px rgba(60, 64, 67, 0.3), 0px 1px 3px 1px rgba(60, 64, 67, 0.15);\n",
              "      fill: #174EA6;\n",
              "    }\n",
              "\n",
              "    [theme=dark] .colab-df-convert {\n",
              "      background-color: #3B4455;\n",
              "      fill: #D2E3FC;\n",
              "    }\n",
              "\n",
              "    [theme=dark] .colab-df-convert:hover {\n",
              "      background-color: #434B5C;\n",
              "      box-shadow: 0px 1px 3px 1px rgba(0, 0, 0, 0.15);\n",
              "      filter: drop-shadow(0px 1px 2px rgba(0, 0, 0, 0.3));\n",
              "      fill: #FFFFFF;\n",
              "    }\n",
              "  </style>\n",
              "\n",
              "      <script>\n",
              "        const buttonEl =\n",
              "          document.querySelector('#df-66fff419-c525-49cd-a257-2c82cfca3ed3 button.colab-df-convert');\n",
              "        buttonEl.style.display =\n",
              "          google.colab.kernel.accessAllowed ? 'block' : 'none';\n",
              "\n",
              "        async function convertToInteractive(key) {\n",
              "          const element = document.querySelector('#df-66fff419-c525-49cd-a257-2c82cfca3ed3');\n",
              "          const dataTable =\n",
              "            await google.colab.kernel.invokeFunction('convertToInteractive',\n",
              "                                                     [key], {});\n",
              "          if (!dataTable) return;\n",
              "\n",
              "          const docLinkHtml = 'Like what you see? Visit the ' +\n",
              "            '<a target=\"_blank\" href=https://colab.research.google.com/notebooks/data_table.ipynb>data table notebook</a>'\n",
              "            + ' to learn more about interactive tables.';\n",
              "          element.innerHTML = '';\n",
              "          dataTable['output_type'] = 'display_data';\n",
              "          await google.colab.output.renderOutput(dataTable, element);\n",
              "          const docLink = document.createElement('div');\n",
              "          docLink.innerHTML = docLinkHtml;\n",
              "          element.appendChild(docLink);\n",
              "        }\n",
              "      </script>\n",
              "    </div>\n",
              "  </div>\n",
              "  "
            ],
            "text/plain": [
              "             ip  app  device  os  channel  is_attributed  day  hour\n",
              "0         89489    3       1  13      379              0    6    15\n",
              "1        204158   35       1  13       21              1    6    15\n",
              "2          3437    6       1  13      459              0    6    15\n",
              "3        167543    3       1  13      379              0    6    15\n",
              "4        147509    3       1  13      379              0    6    15\n",
              "...         ...  ...     ...  ..      ...            ...  ...   ...\n",
              "2300556   32457    2       1  19      477              0    9    15\n",
              "2300557   20266   14       1  13      446              0    9    15\n",
              "2300558   49383   12       2  17      178              0    9    16\n",
              "2300559   34894   12       1  15      145              0    9    16\n",
              "2300560  232000    9       1  19      134              0    9    16\n",
              "\n",
              "[2300561 rows x 8 columns]"
            ]
          },
          "metadata": {},
          "execution_count": 17
        }
      ],
      "source": [
        "df"
      ]
    },
    {
      "cell_type": "markdown",
      "id": "a0a2cdcf",
      "metadata": {
        "id": "a0a2cdcf"
      },
      "source": [
        "now I want to find out 3 features that influence the target column the most:"
      ]
    },
    {
      "cell_type": "code",
      "execution_count": null,
      "id": "abafdca5",
      "metadata": {
        "id": "abafdca5"
      },
      "outputs": [],
      "source": [
        "#apply SelectKBest class to extract top 3 best features\n",
        "bestfeatures = SelectKBest(score_func=chi2, k=3)\n",
        "fit = bestfeatures.fit(df.drop('is_attributed', axis=1), df['is_attributed'])"
      ]
    },
    {
      "cell_type": "code",
      "execution_count": null,
      "id": "514fc341",
      "metadata": {
        "colab": {
          "base_uri": "https://localhost:8080/"
        },
        "id": "514fc341",
        "outputId": "174598b2-ebaf-4a2d-c34c-e46d7c0ce211"
      },
      "outputs": [
        {
          "output_type": "stream",
          "name": "stdout",
          "text": [
            "   Feature         Score\n",
            "0       ip  1.974350e+10\n",
            "1      app  7.485913e+06\n",
            "4  channel  5.674188e+06\n"
          ]
        }
      ],
      "source": [
        "# make a dataframe out of SelectKBest scores\n",
        "dfscores = pd.DataFrame(fit.scores_)\n",
        "\n",
        "# make a dataframe out of the main dataframe's columns\n",
        "dfcolumns = pd.DataFrame(df.columns)\n",
        "\n",
        "# concat two dataframes for better visualization \n",
        "featureScores = pd.concat([dfcolumns,dfscores], axis=1)\n",
        "featureScores.columns = ['Feature','Score']  # naming the dataframe columns\n",
        "print(featureScores.nlargest(3,'Score'))  # print 3 best features"
      ]
    },
    {
      "cell_type": "markdown",
      "id": "3571346b",
      "metadata": {
        "id": "3571346b"
      },
      "source": [
        "so, \"ip\" , \"app\" and \"channel\" have the most impact on target column, respectively."
      ]
    },
    {
      "cell_type": "markdown",
      "id": "c5f88601",
      "metadata": {
        "id": "c5f88601"
      },
      "source": [
        "main dataframe is really large and has about 2 million rows. so I decided to randomly pick 8000 rows and do the rest of analysis on this sampled dataset:"
      ]
    },
    {
      "cell_type": "code",
      "execution_count": null,
      "id": "12191056",
      "metadata": {
        "id": "12191056"
      },
      "outputs": [],
      "source": [
        "df = df.sample(n=8000, axis=0, random_state=100)"
      ]
    },
    {
      "cell_type": "markdown",
      "id": "36ce0dd1",
      "metadata": {
        "id": "36ce0dd1"
      },
      "source": [
        "the sampled dataframe:"
      ]
    },
    {
      "cell_type": "code",
      "execution_count": null,
      "id": "ac7600a5",
      "metadata": {
        "colab": {
          "base_uri": "https://localhost:8080/",
          "height": 423
        },
        "id": "ac7600a5",
        "outputId": "6849be25-be55-4175-d2ba-a1700274678c"
      },
      "outputs": [
        {
          "output_type": "execute_result",
          "data": {
            "text/html": [
              "\n",
              "  <div id=\"df-b08f8e62-5eca-4ac7-878b-56b74781d9b2\">\n",
              "    <div class=\"colab-df-container\">\n",
              "      <div>\n",
              "<style scoped>\n",
              "    .dataframe tbody tr th:only-of-type {\n",
              "        vertical-align: middle;\n",
              "    }\n",
              "\n",
              "    .dataframe tbody tr th {\n",
              "        vertical-align: top;\n",
              "    }\n",
              "\n",
              "    .dataframe thead th {\n",
              "        text-align: right;\n",
              "    }\n",
              "</style>\n",
              "<table border=\"1\" class=\"dataframe\">\n",
              "  <thead>\n",
              "    <tr style=\"text-align: right;\">\n",
              "      <th></th>\n",
              "      <th>ip</th>\n",
              "      <th>app</th>\n",
              "      <th>device</th>\n",
              "      <th>os</th>\n",
              "      <th>channel</th>\n",
              "      <th>is_attributed</th>\n",
              "      <th>day</th>\n",
              "      <th>hour</th>\n",
              "    </tr>\n",
              "  </thead>\n",
              "  <tbody>\n",
              "    <tr>\n",
              "      <th>0</th>\n",
              "      <td>57891</td>\n",
              "      <td>15</td>\n",
              "      <td>1</td>\n",
              "      <td>13</td>\n",
              "      <td>153</td>\n",
              "      <td>0</td>\n",
              "      <td>9</td>\n",
              "      <td>13</td>\n",
              "    </tr>\n",
              "    <tr>\n",
              "      <th>1</th>\n",
              "      <td>118458</td>\n",
              "      <td>12</td>\n",
              "      <td>1</td>\n",
              "      <td>13</td>\n",
              "      <td>265</td>\n",
              "      <td>0</td>\n",
              "      <td>8</td>\n",
              "      <td>9</td>\n",
              "    </tr>\n",
              "    <tr>\n",
              "      <th>2</th>\n",
              "      <td>31731</td>\n",
              "      <td>9</td>\n",
              "      <td>2</td>\n",
              "      <td>7</td>\n",
              "      <td>107</td>\n",
              "      <td>0</td>\n",
              "      <td>9</td>\n",
              "      <td>11</td>\n",
              "    </tr>\n",
              "    <tr>\n",
              "      <th>3</th>\n",
              "      <td>84395</td>\n",
              "      <td>2</td>\n",
              "      <td>1</td>\n",
              "      <td>6</td>\n",
              "      <td>452</td>\n",
              "      <td>0</td>\n",
              "      <td>9</td>\n",
              "      <td>10</td>\n",
              "    </tr>\n",
              "    <tr>\n",
              "      <th>4</th>\n",
              "      <td>332265</td>\n",
              "      <td>5</td>\n",
              "      <td>1</td>\n",
              "      <td>37</td>\n",
              "      <td>113</td>\n",
              "      <td>1</td>\n",
              "      <td>9</td>\n",
              "      <td>14</td>\n",
              "    </tr>\n",
              "    <tr>\n",
              "      <th>...</th>\n",
              "      <td>...</td>\n",
              "      <td>...</td>\n",
              "      <td>...</td>\n",
              "      <td>...</td>\n",
              "      <td>...</td>\n",
              "      <td>...</td>\n",
              "      <td>...</td>\n",
              "      <td>...</td>\n",
              "    </tr>\n",
              "    <tr>\n",
              "      <th>7995</th>\n",
              "      <td>2095</td>\n",
              "      <td>64</td>\n",
              "      <td>1</td>\n",
              "      <td>6</td>\n",
              "      <td>459</td>\n",
              "      <td>0</td>\n",
              "      <td>8</td>\n",
              "      <td>8</td>\n",
              "    </tr>\n",
              "    <tr>\n",
              "      <th>7996</th>\n",
              "      <td>15333</td>\n",
              "      <td>3</td>\n",
              "      <td>1</td>\n",
              "      <td>10</td>\n",
              "      <td>280</td>\n",
              "      <td>0</td>\n",
              "      <td>8</td>\n",
              "      <td>9</td>\n",
              "    </tr>\n",
              "    <tr>\n",
              "      <th>7997</th>\n",
              "      <td>49011</td>\n",
              "      <td>3</td>\n",
              "      <td>1</td>\n",
              "      <td>53</td>\n",
              "      <td>424</td>\n",
              "      <td>0</td>\n",
              "      <td>9</td>\n",
              "      <td>14</td>\n",
              "    </tr>\n",
              "    <tr>\n",
              "      <th>7998</th>\n",
              "      <td>102065</td>\n",
              "      <td>13</td>\n",
              "      <td>1</td>\n",
              "      <td>18</td>\n",
              "      <td>469</td>\n",
              "      <td>0</td>\n",
              "      <td>7</td>\n",
              "      <td>21</td>\n",
              "    </tr>\n",
              "    <tr>\n",
              "      <th>7999</th>\n",
              "      <td>48544</td>\n",
              "      <td>29</td>\n",
              "      <td>1</td>\n",
              "      <td>19</td>\n",
              "      <td>343</td>\n",
              "      <td>1</td>\n",
              "      <td>7</td>\n",
              "      <td>11</td>\n",
              "    </tr>\n",
              "  </tbody>\n",
              "</table>\n",
              "<p>8000 rows × 8 columns</p>\n",
              "</div>\n",
              "      <button class=\"colab-df-convert\" onclick=\"convertToInteractive('df-b08f8e62-5eca-4ac7-878b-56b74781d9b2')\"\n",
              "              title=\"Convert this dataframe to an interactive table.\"\n",
              "              style=\"display:none;\">\n",
              "        \n",
              "  <svg xmlns=\"http://www.w3.org/2000/svg\" height=\"24px\"viewBox=\"0 0 24 24\"\n",
              "       width=\"24px\">\n",
              "    <path d=\"M0 0h24v24H0V0z\" fill=\"none\"/>\n",
              "    <path d=\"M18.56 5.44l.94 2.06.94-2.06 2.06-.94-2.06-.94-.94-2.06-.94 2.06-2.06.94zm-11 1L8.5 8.5l.94-2.06 2.06-.94-2.06-.94L8.5 2.5l-.94 2.06-2.06.94zm10 10l.94 2.06.94-2.06 2.06-.94-2.06-.94-.94-2.06-.94 2.06-2.06.94z\"/><path d=\"M17.41 7.96l-1.37-1.37c-.4-.4-.92-.59-1.43-.59-.52 0-1.04.2-1.43.59L10.3 9.45l-7.72 7.72c-.78.78-.78 2.05 0 2.83L4 21.41c.39.39.9.59 1.41.59.51 0 1.02-.2 1.41-.59l7.78-7.78 2.81-2.81c.8-.78.8-2.07 0-2.86zM5.41 20L4 18.59l7.72-7.72 1.47 1.35L5.41 20z\"/>\n",
              "  </svg>\n",
              "      </button>\n",
              "      \n",
              "  <style>\n",
              "    .colab-df-container {\n",
              "      display:flex;\n",
              "      flex-wrap:wrap;\n",
              "      gap: 12px;\n",
              "    }\n",
              "\n",
              "    .colab-df-convert {\n",
              "      background-color: #E8F0FE;\n",
              "      border: none;\n",
              "      border-radius: 50%;\n",
              "      cursor: pointer;\n",
              "      display: none;\n",
              "      fill: #1967D2;\n",
              "      height: 32px;\n",
              "      padding: 0 0 0 0;\n",
              "      width: 32px;\n",
              "    }\n",
              "\n",
              "    .colab-df-convert:hover {\n",
              "      background-color: #E2EBFA;\n",
              "      box-shadow: 0px 1px 2px rgba(60, 64, 67, 0.3), 0px 1px 3px 1px rgba(60, 64, 67, 0.15);\n",
              "      fill: #174EA6;\n",
              "    }\n",
              "\n",
              "    [theme=dark] .colab-df-convert {\n",
              "      background-color: #3B4455;\n",
              "      fill: #D2E3FC;\n",
              "    }\n",
              "\n",
              "    [theme=dark] .colab-df-convert:hover {\n",
              "      background-color: #434B5C;\n",
              "      box-shadow: 0px 1px 3px 1px rgba(0, 0, 0, 0.15);\n",
              "      filter: drop-shadow(0px 1px 2px rgba(0, 0, 0, 0.3));\n",
              "      fill: #FFFFFF;\n",
              "    }\n",
              "  </style>\n",
              "\n",
              "      <script>\n",
              "        const buttonEl =\n",
              "          document.querySelector('#df-b08f8e62-5eca-4ac7-878b-56b74781d9b2 button.colab-df-convert');\n",
              "        buttonEl.style.display =\n",
              "          google.colab.kernel.accessAllowed ? 'block' : 'none';\n",
              "\n",
              "        async function convertToInteractive(key) {\n",
              "          const element = document.querySelector('#df-b08f8e62-5eca-4ac7-878b-56b74781d9b2');\n",
              "          const dataTable =\n",
              "            await google.colab.kernel.invokeFunction('convertToInteractive',\n",
              "                                                     [key], {});\n",
              "          if (!dataTable) return;\n",
              "\n",
              "          const docLinkHtml = 'Like what you see? Visit the ' +\n",
              "            '<a target=\"_blank\" href=https://colab.research.google.com/notebooks/data_table.ipynb>data table notebook</a>'\n",
              "            + ' to learn more about interactive tables.';\n",
              "          element.innerHTML = '';\n",
              "          dataTable['output_type'] = 'display_data';\n",
              "          await google.colab.output.renderOutput(dataTable, element);\n",
              "          const docLink = document.createElement('div');\n",
              "          docLink.innerHTML = docLinkHtml;\n",
              "          element.appendChild(docLink);\n",
              "        }\n",
              "      </script>\n",
              "    </div>\n",
              "  </div>\n",
              "  "
            ],
            "text/plain": [
              "          ip  app  device  os  channel  is_attributed  day  hour\n",
              "0      57891   15       1  13      153              0    9    13\n",
              "1     118458   12       1  13      265              0    8     9\n",
              "2      31731    9       2   7      107              0    9    11\n",
              "3      84395    2       1   6      452              0    9    10\n",
              "4     332265    5       1  37      113              1    9    14\n",
              "...      ...  ...     ...  ..      ...            ...  ...   ...\n",
              "7995    2095   64       1   6      459              0    8     8\n",
              "7996   15333    3       1  10      280              0    8     9\n",
              "7997   49011    3       1  53      424              0    9    14\n",
              "7998  102065   13       1  18      469              0    7    21\n",
              "7999   48544   29       1  19      343              1    7    11\n",
              "\n",
              "[8000 rows x 8 columns]"
            ]
          },
          "metadata": {},
          "execution_count": 21
        }
      ],
      "source": [
        "df.reset_index(inplace=True, drop=True)\n",
        "df"
      ]
    },
    {
      "cell_type": "markdown",
      "id": "7000cecc",
      "metadata": {
        "id": "7000cecc"
      },
      "source": [
        "splitting the dataframe into train set and test set; 20% for test set and 80% for train set:"
      ]
    },
    {
      "cell_type": "code",
      "execution_count": null,
      "id": "e91da931",
      "metadata": {
        "id": "e91da931"
      },
      "outputs": [],
      "source": [
        "X_train, X_test, y_train, y_test = train_test_split(df.drop('is_attributed', axis=1), df['is_attributed'], test_size=0.2, random_state=100)"
      ]
    },
    {
      "cell_type": "markdown",
      "id": "0dddb516",
      "metadata": {
        "id": "0dddb516"
      },
      "source": [
        "here, since the dataset is imbalanced, I used SMOTE on train set to oversample class 1 and undersample class 0, so that the process of training the models isn't biased towards the 0 class:"
      ]
    },
    {
      "cell_type": "code",
      "execution_count": null,
      "id": "f7f18969",
      "metadata": {
        "id": "f7f18969"
      },
      "outputs": [],
      "source": [
        "sm = SMOTE(random_state=101)\n",
        "# X_res and y_res are the new resampled train set\n",
        "X_res, y_res = sm.fit_resample(X_train, y_train)"
      ]
    },
    {
      "cell_type": "markdown",
      "id": "e02d2cc7",
      "metadata": {
        "id": "e02d2cc7"
      },
      "source": [
        "as mentioned earlier, feature columns of the dataset are not of the same scale. using a StandardScaler object I scaled the values of X_res and used the same object to transform X_test:"
      ]
    },
    {
      "cell_type": "code",
      "execution_count": null,
      "id": "40d0f895",
      "metadata": {
        "id": "40d0f895"
      },
      "outputs": [],
      "source": [
        "scaler = StandardScaler()"
      ]
    },
    {
      "cell_type": "code",
      "execution_count": null,
      "id": "e1f87093",
      "metadata": {
        "id": "e1f87093"
      },
      "outputs": [],
      "source": [
        "X_res = scaler.fit_transform(X_res)"
      ]
    },
    {
      "cell_type": "code",
      "execution_count": null,
      "id": "dbf3d1fd",
      "metadata": {
        "id": "dbf3d1fd"
      },
      "outputs": [],
      "source": [
        "X_test = scaler.transform(X_test)"
      ]
    },
    {
      "cell_type": "markdown",
      "id": "17f9df58",
      "metadata": {
        "id": "17f9df58"
      },
      "source": [
        "finally, splitting X_res and y_res; 70% for train set and 30% for validation set:"
      ]
    },
    {
      "cell_type": "code",
      "execution_count": null,
      "id": "b509de94",
      "metadata": {
        "id": "b509de94"
      },
      "outputs": [],
      "source": [
        "X_train, X_val, y_train, y_val = train_test_split(X_res, y_res, test_size=0.3, random_state=100)"
      ]
    },
    {
      "cell_type": "code",
      "execution_count": null,
      "id": "64fbf64d",
      "metadata": {
        "colab": {
          "base_uri": "https://localhost:8080/"
        },
        "id": "64fbf64d",
        "outputId": "df839cf0-34be-4235-a1bf-45e964cfbf93"
      },
      "outputs": [
        {
          "output_type": "stream",
          "name": "stdout",
          "text": [
            "(7205, 7)\n",
            "(7205,)\n",
            "(3089, 7)\n",
            "(3089,)\n",
            "(1600, 7)\n",
            "(1600,)\n"
          ]
        }
      ],
      "source": [
        "# checking shape of all matrices\n",
        "print(X_train.shape)\n",
        "print(y_train.shape)\n",
        "print(X_val.shape)\n",
        "print(y_val.shape)\n",
        "print(X_test.shape)\n",
        "print(y_test.shape)"
      ]
    },
    {
      "cell_type": "markdown",
      "id": "f5a6e9c5",
      "metadata": {
        "id": "f5a6e9c5"
      },
      "source": [
        "### models"
      ]
    },
    {
      "cell_type": "markdown",
      "id": "e486fcdf",
      "metadata": {
        "id": "e486fcdf"
      },
      "source": [
        "#### 1- Logistic Regression"
      ]
    },
    {
      "cell_type": "markdown",
      "id": "928352a8",
      "metadata": {
        "id": "928352a8"
      },
      "source": [
        "##### cross validation"
      ]
    },
    {
      "cell_type": "markdown",
      "id": "3931d57d",
      "metadata": {
        "id": "3931d57d"
      },
      "source": [
        "using GridSearchCV with validation set to find better values for some of the main parameters of the model:"
      ]
    },
    {
      "cell_type": "code",
      "execution_count": null,
      "id": "2a0fdcb4",
      "metadata": {
        "id": "2a0fdcb4"
      },
      "outputs": [],
      "source": [
        "# experimenting some values for parameters \"C\" and \"max_iter\" of logistic regression\n",
        "lr_params = {'C': [0.01, 0.1, 1, 10, 100, 1000], 'max_iter': [50, 100, 200]}"
      ]
    },
    {
      "cell_type": "code",
      "execution_count": null,
      "id": "qF0FYxIh8IRP",
      "metadata": {
        "id": "qF0FYxIh8IRP"
      },
      "outputs": [],
      "source": [
        "lr_grid = GridSearchCV(LogisticRegression(), lr_params, refit=True, verbose=5)"
      ]
    },
    {
      "cell_type": "code",
      "execution_count": null,
      "id": "TwqYCHji8cWS",
      "metadata": {
        "colab": {
          "base_uri": "https://localhost:8080/"
        },
        "id": "TwqYCHji8cWS",
        "outputId": "3ad5f696-1abb-47fb-82d1-576a4c3785de"
      },
      "outputs": [
        {
          "output_type": "stream",
          "name": "stdout",
          "text": [
            "Fitting 5 folds for each of 18 candidates, totalling 90 fits\n",
            "[CV 1/5] END ...............C=0.01, max_iter=50;, score=0.777 total time=   0.0s\n",
            "[CV 2/5] END ...............C=0.01, max_iter=50;, score=0.764 total time=   0.0s\n",
            "[CV 3/5] END ...............C=0.01, max_iter=50;, score=0.807 total time=   0.0s\n",
            "[CV 4/5] END ...............C=0.01, max_iter=50;, score=0.812 total time=   0.0s\n",
            "[CV 5/5] END ...............C=0.01, max_iter=50;, score=0.789 total time=   0.0s\n",
            "[CV 1/5] END ..............C=0.01, max_iter=100;, score=0.777 total time=   0.0s\n",
            "[CV 2/5] END ..............C=0.01, max_iter=100;, score=0.764 total time=   0.0s\n",
            "[CV 3/5] END ..............C=0.01, max_iter=100;, score=0.807 total time=   0.0s\n",
            "[CV 4/5] END ..............C=0.01, max_iter=100;, score=0.812 total time=   0.0s\n",
            "[CV 5/5] END ..............C=0.01, max_iter=100;, score=0.789 total time=   0.0s\n",
            "[CV 1/5] END ..............C=0.01, max_iter=200;, score=0.777 total time=   0.0s\n",
            "[CV 2/5] END ..............C=0.01, max_iter=200;, score=0.764 total time=   0.0s\n",
            "[CV 3/5] END ..............C=0.01, max_iter=200;, score=0.807 total time=   0.0s\n",
            "[CV 4/5] END ..............C=0.01, max_iter=200;, score=0.812 total time=   0.0s\n",
            "[CV 5/5] END ..............C=0.01, max_iter=200;, score=0.789 total time=   0.0s\n",
            "[CV 1/5] END ................C=0.1, max_iter=50;, score=0.786 total time=   0.0s\n",
            "[CV 2/5] END ................C=0.1, max_iter=50;, score=0.770 total time=   0.0s\n",
            "[CV 3/5] END ................C=0.1, max_iter=50;, score=0.827 total time=   0.0s\n",
            "[CV 4/5] END ................C=0.1, max_iter=50;, score=0.827 total time=   0.0s\n",
            "[CV 5/5] END ................C=0.1, max_iter=50;, score=0.806 total time=   0.0s\n",
            "[CV 1/5] END ...............C=0.1, max_iter=100;, score=0.786 total time=   0.0s\n",
            "[CV 2/5] END ...............C=0.1, max_iter=100;, score=0.770 total time=   0.0s\n",
            "[CV 3/5] END ...............C=0.1, max_iter=100;, score=0.827 total time=   0.0s\n",
            "[CV 4/5] END ...............C=0.1, max_iter=100;, score=0.827 total time=   0.0s\n",
            "[CV 5/5] END ...............C=0.1, max_iter=100;, score=0.806 total time=   0.0s\n",
            "[CV 1/5] END ...............C=0.1, max_iter=200;, score=0.786 total time=   0.0s\n",
            "[CV 2/5] END ...............C=0.1, max_iter=200;, score=0.770 total time=   0.0s\n",
            "[CV 3/5] END ...............C=0.1, max_iter=200;, score=0.827 total time=   0.0s\n",
            "[CV 4/5] END ...............C=0.1, max_iter=200;, score=0.827 total time=   0.0s\n",
            "[CV 5/5] END ...............C=0.1, max_iter=200;, score=0.806 total time=   0.0s\n",
            "[CV 1/5] END ..................C=1, max_iter=50;, score=0.786 total time=   0.0s\n",
            "[CV 2/5] END ..................C=1, max_iter=50;, score=0.770 total time=   0.0s\n",
            "[CV 3/5] END ..................C=1, max_iter=50;, score=0.820 total time=   0.0s\n",
            "[CV 4/5] END ..................C=1, max_iter=50;, score=0.830 total time=   0.0s\n",
            "[CV 5/5] END ..................C=1, max_iter=50;, score=0.804 total time=   0.0s\n",
            "[CV 1/5] END .................C=1, max_iter=100;, score=0.786 total time=   0.0s\n",
            "[CV 2/5] END .................C=1, max_iter=100;, score=0.770 total time=   0.0s\n",
            "[CV 3/5] END .................C=1, max_iter=100;, score=0.820 total time=   0.0s\n",
            "[CV 4/5] END .................C=1, max_iter=100;, score=0.830 total time=   0.0s\n",
            "[CV 5/5] END .................C=1, max_iter=100;, score=0.804 total time=   0.0s\n",
            "[CV 1/5] END .................C=1, max_iter=200;, score=0.786 total time=   0.0s\n",
            "[CV 2/5] END .................C=1, max_iter=200;, score=0.770 total time=   0.0s\n",
            "[CV 3/5] END .................C=1, max_iter=200;, score=0.820 total time=   0.0s\n",
            "[CV 4/5] END .................C=1, max_iter=200;, score=0.830 total time=   0.0s\n",
            "[CV 5/5] END .................C=1, max_iter=200;, score=0.804 total time=   0.0s\n",
            "[CV 1/5] END .................C=10, max_iter=50;, score=0.788 total time=   0.0s\n",
            "[CV 2/5] END .................C=10, max_iter=50;, score=0.773 total time=   0.0s\n",
            "[CV 3/5] END .................C=10, max_iter=50;, score=0.820 total time=   0.0s\n",
            "[CV 4/5] END .................C=10, max_iter=50;, score=0.832 total time=   0.0s\n",
            "[CV 5/5] END .................C=10, max_iter=50;, score=0.806 total time=   0.0s\n",
            "[CV 1/5] END ................C=10, max_iter=100;, score=0.788 total time=   0.0s\n",
            "[CV 2/5] END ................C=10, max_iter=100;, score=0.773 total time=   0.0s\n",
            "[CV 3/5] END ................C=10, max_iter=100;, score=0.820 total time=   0.0s\n",
            "[CV 4/5] END ................C=10, max_iter=100;, score=0.832 total time=   0.0s\n",
            "[CV 5/5] END ................C=10, max_iter=100;, score=0.806 total time=   0.0s\n",
            "[CV 1/5] END ................C=10, max_iter=200;, score=0.788 total time=   0.0s\n",
            "[CV 2/5] END ................C=10, max_iter=200;, score=0.773 total time=   0.0s\n",
            "[CV 3/5] END ................C=10, max_iter=200;, score=0.820 total time=   0.0s\n",
            "[CV 4/5] END ................C=10, max_iter=200;, score=0.832 total time=   0.0s\n",
            "[CV 5/5] END ................C=10, max_iter=200;, score=0.806 total time=   0.0s\n",
            "[CV 1/5] END ................C=100, max_iter=50;, score=0.788 total time=   0.0s\n",
            "[CV 2/5] END ................C=100, max_iter=50;, score=0.773 total time=   0.0s\n",
            "[CV 3/5] END ................C=100, max_iter=50;, score=0.820 total time=   0.0s\n",
            "[CV 4/5] END ................C=100, max_iter=50;, score=0.832 total time=   0.0s\n",
            "[CV 5/5] END ................C=100, max_iter=50;, score=0.806 total time=   0.0s\n",
            "[CV 1/5] END ...............C=100, max_iter=100;, score=0.788 total time=   0.0s\n",
            "[CV 2/5] END ...............C=100, max_iter=100;, score=0.773 total time=   0.0s\n",
            "[CV 3/5] END ...............C=100, max_iter=100;, score=0.820 total time=   0.0s\n",
            "[CV 4/5] END ...............C=100, max_iter=100;, score=0.832 total time=   0.0s\n",
            "[CV 5/5] END ...............C=100, max_iter=100;, score=0.806 total time=   0.0s\n",
            "[CV 1/5] END ...............C=100, max_iter=200;, score=0.788 total time=   0.0s\n",
            "[CV 2/5] END ...............C=100, max_iter=200;, score=0.773 total time=   0.0s\n",
            "[CV 3/5] END ...............C=100, max_iter=200;, score=0.820 total time=   0.0s\n",
            "[CV 4/5] END ...............C=100, max_iter=200;, score=0.832 total time=   0.0s\n",
            "[CV 5/5] END ...............C=100, max_iter=200;, score=0.806 total time=   0.0s\n",
            "[CV 1/5] END ...............C=1000, max_iter=50;, score=0.788 total time=   0.0s\n",
            "[CV 2/5] END ...............C=1000, max_iter=50;, score=0.773 total time=   0.0s\n",
            "[CV 3/5] END ...............C=1000, max_iter=50;, score=0.820 total time=   0.0s\n",
            "[CV 4/5] END ...............C=1000, max_iter=50;, score=0.832 total time=   0.0s\n",
            "[CV 5/5] END ...............C=1000, max_iter=50;, score=0.806 total time=   0.0s\n",
            "[CV 1/5] END ..............C=1000, max_iter=100;, score=0.788 total time=   0.0s\n",
            "[CV 2/5] END ..............C=1000, max_iter=100;, score=0.773 total time=   0.0s\n",
            "[CV 3/5] END ..............C=1000, max_iter=100;, score=0.820 total time=   0.0s\n",
            "[CV 4/5] END ..............C=1000, max_iter=100;, score=0.832 total time=   0.0s\n",
            "[CV 5/5] END ..............C=1000, max_iter=100;, score=0.806 total time=   0.0s\n",
            "[CV 1/5] END ..............C=1000, max_iter=200;, score=0.788 total time=   0.0s\n",
            "[CV 2/5] END ..............C=1000, max_iter=200;, score=0.773 total time=   0.0s\n",
            "[CV 3/5] END ..............C=1000, max_iter=200;, score=0.820 total time=   0.0s\n",
            "[CV 4/5] END ..............C=1000, max_iter=200;, score=0.832 total time=   0.0s\n",
            "[CV 5/5] END ..............C=1000, max_iter=200;, score=0.806 total time=   0.0s\n"
          ]
        },
        {
          "output_type": "execute_result",
          "data": {
            "text/plain": [
              "GridSearchCV(estimator=LogisticRegression(),\n",
              "             param_grid={'C': [0.01, 0.1, 1, 10, 100, 1000],\n",
              "                         'max_iter': [50, 100, 200]},\n",
              "             verbose=5)"
            ]
          },
          "metadata": {},
          "execution_count": 31
        }
      ],
      "source": [
        "lr_grid.fit(X_val, y_val)"
      ]
    },
    {
      "cell_type": "markdown",
      "id": "b6f1cf9f",
      "metadata": {
        "id": "b6f1cf9f"
      },
      "source": [
        "printing the best parameters found:"
      ]
    },
    {
      "cell_type": "code",
      "execution_count": null,
      "id": "4GlFnlZH80Bh",
      "metadata": {
        "colab": {
          "base_uri": "https://localhost:8080/"
        },
        "id": "4GlFnlZH80Bh",
        "outputId": "391289a6-6817-4616-e3e2-1974932d160e"
      },
      "outputs": [
        {
          "output_type": "execute_result",
          "data": {
            "text/plain": [
              "{'C': 10, 'max_iter': 50}"
            ]
          },
          "metadata": {},
          "execution_count": 32
        }
      ],
      "source": [
        "lr_grid.best_params_"
      ]
    },
    {
      "cell_type": "markdown",
      "id": "b56530bc",
      "metadata": {
        "id": "b56530bc"
      },
      "source": [
        "##### the model"
      ]
    },
    {
      "cell_type": "markdown",
      "id": "d2d42131",
      "metadata": {
        "id": "d2d42131"
      },
      "source": [
        "training the logistic regression model on train set with the best parameters found:"
      ]
    },
    {
      "cell_type": "code",
      "execution_count": null,
      "id": "a002b903",
      "metadata": {
        "colab": {
          "base_uri": "https://localhost:8080/"
        },
        "id": "a002b903",
        "outputId": "321ea716-508d-441b-e1c2-3a0efb90f8e5"
      },
      "outputs": [
        {
          "output_type": "execute_result",
          "data": {
            "text/plain": [
              "LogisticRegression(C=10, max_iter=50)"
            ]
          },
          "metadata": {},
          "execution_count": 33
        }
      ],
      "source": [
        "log_reg = LogisticRegression(C=10, max_iter=50)\n",
        "log_reg.fit(X_train, y_train)"
      ]
    },
    {
      "cell_type": "markdown",
      "id": "9d862a32",
      "metadata": {
        "id": "9d862a32"
      },
      "source": [
        "predicting labels for train set in order to find out accuracy on train set:"
      ]
    },
    {
      "cell_type": "code",
      "execution_count": null,
      "id": "6dc648b1",
      "metadata": {
        "id": "6dc648b1"
      },
      "outputs": [],
      "source": [
        "train_preds = log_reg.predict(X_train)"
      ]
    },
    {
      "cell_type": "markdown",
      "id": "5bb1de82",
      "metadata": {
        "id": "5bb1de82"
      },
      "source": [
        "printing classification report and confusion matrix and accuracy score for prediction on train set:"
      ]
    },
    {
      "cell_type": "code",
      "execution_count": null,
      "id": "b08b41cb",
      "metadata": {
        "colab": {
          "base_uri": "https://localhost:8080/"
        },
        "id": "b08b41cb",
        "outputId": "9ec4a226-bbbd-4281-cb28-ff17bafb0e93"
      },
      "outputs": [
        {
          "output_type": "stream",
          "name": "stdout",
          "text": [
            "              precision    recall  f1-score   support\n",
            "\n",
            "           0       0.79      0.82      0.81      3583\n",
            "           1       0.81      0.79      0.80      3622\n",
            "\n",
            "    accuracy                           0.80      7205\n",
            "   macro avg       0.80      0.80      0.80      7205\n",
            "weighted avg       0.80      0.80      0.80      7205\n",
            "\n",
            "\n",
            "[[2930  653]\n",
            " [ 764 2858]]\n",
            "\n",
            "logistic regression train accuracy : 0.8\n"
          ]
        }
      ],
      "source": [
        "print(classification_report(y_train, train_preds))\n",
        "print()\n",
        "print(confusion_matrix(y_train, train_preds))\n",
        "print()\n",
        "print('logistic regression train accuracy :', round(accuracy_score(y_train, train_preds), 2))"
      ]
    },
    {
      "cell_type": "markdown",
      "id": "3604bf51",
      "metadata": {
        "id": "3604bf51"
      },
      "source": [
        "now predicting labels for test set:"
      ]
    },
    {
      "cell_type": "code",
      "execution_count": null,
      "id": "fb709c95",
      "metadata": {
        "id": "fb709c95"
      },
      "outputs": [],
      "source": [
        "test_preds = log_reg.predict(X_test)"
      ]
    },
    {
      "cell_type": "markdown",
      "id": "7cd38cb4",
      "metadata": {
        "id": "7cd38cb4"
      },
      "source": [
        "printing classification report and confusion matrix and accuracy score for prediction of logistic regression model on test set:"
      ]
    },
    {
      "cell_type": "code",
      "execution_count": null,
      "id": "564ebbd9",
      "metadata": {
        "colab": {
          "base_uri": "https://localhost:8080/"
        },
        "id": "564ebbd9",
        "outputId": "d29f5b33-7afb-48d0-86c4-611abd64dd6f"
      },
      "outputs": [
        {
          "output_type": "stream",
          "name": "stdout",
          "text": [
            "              precision    recall  f1-score   support\n",
            "\n",
            "           0       0.93      0.81      0.87      1303\n",
            "           1       0.47      0.72      0.57       297\n",
            "\n",
            "    accuracy                           0.80      1600\n",
            "   macro avg       0.70      0.77      0.72      1600\n",
            "weighted avg       0.84      0.80      0.81      1600\n",
            "\n",
            "\n",
            "[[1060  243]\n",
            " [  82  215]]\n",
            "\n",
            "logistic regression test accuracy : 0.8\n"
          ]
        }
      ],
      "source": [
        "print(classification_report(y_test, test_preds))\n",
        "print()\n",
        "print(confusion_matrix(y_test, test_preds))\n",
        "print()\n",
        "print('logistic regression test accuracy :', round(accuracy_score(y_test, test_preds), 2))"
      ]
    },
    {
      "cell_type": "markdown",
      "id": "808404b7",
      "metadata": {
        "id": "808404b7"
      },
      "source": [
        "##### plot decision boundary"
      ]
    },
    {
      "cell_type": "markdown",
      "source": [
        "training another logistic regression model on 2 most important features of train set; \"ip\" and \"app\":"
      ],
      "metadata": {
        "id": "L1mjAt5XMAFj"
      },
      "id": "L1mjAt5XMAFj"
    },
    {
      "cell_type": "code",
      "source": [
        "lr = LogisticRegression(C=10, max_iter=50)\n",
        "lr.fit(X_train[:, :2], y_train)"
      ],
      "metadata": {
        "colab": {
          "base_uri": "https://localhost:8080/"
        },
        "id": "YlSiNq2_vj38",
        "outputId": "1bb83836-3221-49b5-e493-b51d57aa4adb"
      },
      "id": "YlSiNq2_vj38",
      "execution_count": null,
      "outputs": [
        {
          "output_type": "execute_result",
          "data": {
            "text/plain": [
              "LogisticRegression(C=10, max_iter=50)"
            ]
          },
          "metadata": {},
          "execution_count": 38
        }
      ]
    },
    {
      "cell_type": "markdown",
      "source": [
        "defining min and max of plotting canvas:"
      ],
      "metadata": {
        "id": "m9VC9zTnMUpz"
      },
      "id": "m9VC9zTnMUpz"
    },
    {
      "cell_type": "code",
      "execution_count": null,
      "id": "5b53e7ba",
      "metadata": {
        "id": "5b53e7ba"
      },
      "outputs": [],
      "source": [
        "x_min, x_max = X_test[:, 0].min() - 1, X_test[:, 0].max() + 1 # for ip\n",
        "y_min, y_max = X_test[:, 1].min() - 1, X_test[:, 1].max() + 1 # for app"
      ]
    },
    {
      "cell_type": "markdown",
      "source": [
        "plotting the dicision boundary line of logistic regression to see how it classifies test set:"
      ],
      "metadata": {
        "id": "h2rvwgpEMgp6"
      },
      "id": "h2rvwgpEMgp6"
    },
    {
      "cell_type": "code",
      "source": [
        "# grab intercept and coefficient of linear regression model\n",
        "b = lr.intercept_[0]\n",
        "w1, w2 = lr.coef_.T\n",
        "\n",
        "# Calculate the intercept and slope of the decision boundary line\n",
        "c = -b/w2\n",
        "m = -w1/w2\n",
        "\n",
        "# Plot the classification with the decision boundary\n",
        "xd = np.array([x_min, x_max])\n",
        "yd = m * xd + c\n",
        "plt.figure(figsize=(15,10))\n",
        "plt.plot(xd, yd, 'k', lw=2, ls='--')\n",
        "plt.fill_between(xd, yd, y_min, color='blue', alpha=0.2)\n",
        "plt.fill_between(xd, yd, y_max, color='red', alpha=0.2)\n",
        "\n",
        "# scatter plot of test set\n",
        "for i, color in zip(range(2), 'bry'):\n",
        "  idx = np.where(y_test == i)\n",
        "  plt.scatter(X_test[idx, 0], X_test[idx, 1], c=color, label=y_test.iloc[i], cmap='bry')\n",
        "plt.xlabel('ip')\n",
        "plt.ylabel('app')\n",
        "plt.title('Decision boundary line for logistic regression (test data)')\n",
        "plt.legend()\n",
        "plt.xlim(x_min, x_max)\n",
        "plt.ylim(y_min, y_max)"
      ],
      "metadata": {
        "colab": {
          "base_uri": "https://localhost:8080/",
          "height": 644
        },
        "id": "G-RB2nfWmp2_",
        "outputId": "a82bc179-86c1-4f41-80ac-a3e3140dad86"
      },
      "id": "G-RB2nfWmp2_",
      "execution_count": null,
      "outputs": [
        {
          "output_type": "execute_result",
          "data": {
            "text/plain": [
              "(-1.8507788784364754, 14.480440494933074)"
            ]
          },
          "metadata": {},
          "execution_count": 40
        },
        {
          "output_type": "display_data",
          "data": {
            "image/png": "[encoded data removed]",
            "text/plain": [
              "<Figure size 1080x720 with 1 Axes>"
            ]
          },
          "metadata": {}
        }
      ]
    },
    {
      "cell_type": "markdown",
      "source": [
        "##### plot ROC"
      ],
      "metadata": {
        "id": "ChhL0FOTQNBg"
      },
      "id": "ChhL0FOTQNBg"
    },
    {
      "cell_type": "markdown",
      "source": [
        "calling predict_proba of logistic regression model to get the probabilities of each instance belonging to each class:"
      ],
      "metadata": {
        "id": "J_IIQc4jP5Cs"
      },
      "id": "J_IIQc4jP5Cs"
    },
    {
      "cell_type": "code",
      "execution_count": null,
      "id": "a82392ac",
      "metadata": {
        "id": "a82392ac"
      },
      "outputs": [],
      "source": [
        "lr_prob = log_reg.predict_proba(X_test)"
      ]
    },
    {
      "cell_type": "markdown",
      "source": [
        "grabbing only probabilities of belonging to class 1:"
      ],
      "metadata": {
        "id": "AmZp9Np9dZOA"
      },
      "id": "AmZp9Np9dZOA"
    },
    {
      "cell_type": "code",
      "execution_count": null,
      "id": "02288159",
      "metadata": {
        "id": "02288159"
      },
      "outputs": [],
      "source": [
        "lr_prob = lr_prob[:, 1]"
      ]
    },
    {
      "cell_type": "markdown",
      "source": [
        "computing auc score:"
      ],
      "metadata": {
        "id": "4A9GQaA7dleZ"
      },
      "id": "4A9GQaA7dleZ"
    },
    {
      "cell_type": "code",
      "execution_count": null,
      "id": "9d2b1ac6",
      "metadata": {
        "id": "9d2b1ac6"
      },
      "outputs": [],
      "source": [
        "lr_auc = roc_auc_score(y_test, lr_prob)"
      ]
    },
    {
      "cell_type": "code",
      "execution_count": null,
      "id": "c9e3253f",
      "metadata": {
        "colab": {
          "base_uri": "https://localhost:8080/"
        },
        "id": "c9e3253f",
        "outputId": "7479349f-19f1-453f-8653-fe7491e18fbd"
      },
      "outputs": [
        {
          "output_type": "stream",
          "name": "stdout",
          "text": [
            "Logistic regression ROC AUC = 0.832\n"
          ]
        }
      ],
      "source": [
        "print('Logistic regression ROC AUC = %.3f' %(lr_auc))"
      ]
    },
    {
      "cell_type": "markdown",
      "source": [
        "now plotting ROC curve:"
      ],
      "metadata": {
        "id": "ZBhefuo0dv8Y"
      },
      "id": "ZBhefuo0dv8Y"
    },
    {
      "cell_type": "code",
      "execution_count": null,
      "id": "4a4404d8",
      "metadata": {
        "id": "4a4404d8"
      },
      "outputs": [],
      "source": [
        "lr_fpr, lr_tpr, _ = roc_curve(y_test, lr_prob)"
      ]
    },
    {
      "cell_type": "code",
      "execution_count": null,
      "id": "08e7c704",
      "metadata": {
        "colab": {
          "base_uri": "https://localhost:8080/",
          "height": 372
        },
        "id": "08e7c704",
        "outputId": "82e53c2d-59da-410a-f88b-8688fa0eacb9"
      },
      "outputs": [
        {
          "output_type": "execute_result",
          "data": {
            "text/plain": [
              "Text(0.5, 1.0, 'ROC curve for logistic regression')"
            ]
          },
          "metadata": {},
          "execution_count": 46
        },
        {
          "output_type": "display_data",
          "data": {
            "image/png": "[encoded data removed]",
            "text/plain": [
              "<Figure size 576x360 with 1 Axes>"
            ]
          },
          "metadata": {}
        }
      ],
      "source": [
        "plt.figure(figsize=(8,5))\n",
        "plt.plot(lr_fpr, lr_tpr, marker='.')\n",
        "plt.xlabel('False Positive Rate')\n",
        "plt.ylabel('True Positive Rate')\n",
        "plt.title('ROC curve for logistic regression')"
      ]
    },
    {
      "cell_type": "markdown",
      "source": [
        "#### 2- Support Vector Machine (SVM)"
      ],
      "metadata": {
        "id": "LmOe9yh6d9Um"
      },
      "id": "LmOe9yh6d9Um"
    },
    {
      "cell_type": "markdown",
      "source": [
        "##### cross validation"
      ],
      "metadata": {
        "id": "j_ToFDJ0eE9-"
      },
      "id": "j_ToFDJ0eE9-"
    },
    {
      "cell_type": "markdown",
      "source": [
        "using GridSearchCV with validation set to find better values for some of the main parameters of the model:"
      ],
      "metadata": {
        "id": "p_AqFf6AeaM_"
      },
      "id": "p_AqFf6AeaM_"
    },
    {
      "cell_type": "code",
      "execution_count": null,
      "id": "XCD8Wacy-yj4",
      "metadata": {
        "id": "XCD8Wacy-yj4"
      },
      "outputs": [],
      "source": [
        "# experimenting some values for \"C\" and \"gamma\" parameters of SVM\n",
        "svm_params = {'C': [0.1, 1], 'kernel': ['rbf'], 'gamma': [1, 0.1]}\n",
        "svm_grid = GridSearchCV(SVC(), svm_params, refit=True, verbose=3)"
      ]
    },
    {
      "cell_type": "code",
      "execution_count": null,
      "id": "9zu4sDM3Avqa",
      "metadata": {
        "colab": {
          "base_uri": "https://localhost:8080/"
        },
        "id": "9zu4sDM3Avqa",
        "outputId": "f69cf3b6-8aa9-4314-fcc4-1ed18058511c"
      },
      "outputs": [
        {
          "output_type": "stream",
          "name": "stdout",
          "text": [
            "Fitting 5 folds for each of 4 candidates, totalling 20 fits\n",
            "[CV 1/5] END ........C=0.1, gamma=1, kernel=rbf;, score=0.812 total time=   0.3s\n",
            "[CV 2/5] END ........C=0.1, gamma=1, kernel=rbf;, score=0.804 total time=   0.3s\n",
            "[CV 3/5] END ........C=0.1, gamma=1, kernel=rbf;, score=0.820 total time=   0.3s\n",
            "[CV 4/5] END ........C=0.1, gamma=1, kernel=rbf;, score=0.859 total time=   0.3s\n",
            "[CV 5/5] END ........C=0.1, gamma=1, kernel=rbf;, score=0.812 total time=   0.3s\n",
            "[CV 1/5] END ......C=0.1, gamma=0.1, kernel=rbf;, score=0.812 total time=   0.3s\n",
            "[CV 2/5] END ......C=0.1, gamma=0.1, kernel=rbf;, score=0.803 total time=   0.3s\n",
            "[CV 3/5] END ......C=0.1, gamma=0.1, kernel=rbf;, score=0.832 total time=   0.3s\n",
            "[CV 4/5] END ......C=0.1, gamma=0.1, kernel=rbf;, score=0.854 total time=   0.3s\n",
            "[CV 5/5] END ......C=0.1, gamma=0.1, kernel=rbf;, score=0.827 total time=   0.3s\n",
            "[CV 1/5] END ..........C=1, gamma=1, kernel=rbf;, score=0.830 total time=   0.3s\n",
            "[CV 2/5] END ..........C=1, gamma=1, kernel=rbf;, score=0.845 total time=   0.3s\n",
            "[CV 3/5] END ..........C=1, gamma=1, kernel=rbf;, score=0.846 total time=   0.3s\n",
            "[CV 4/5] END ..........C=1, gamma=1, kernel=rbf;, score=0.856 total time=   0.3s\n",
            "[CV 5/5] END ..........C=1, gamma=1, kernel=rbf;, score=0.822 total time=   0.3s\n",
            "[CV 1/5] END ........C=1, gamma=0.1, kernel=rbf;, score=0.833 total time=   0.2s\n",
            "[CV 2/5] END ........C=1, gamma=0.1, kernel=rbf;, score=0.824 total time=   0.2s\n",
            "[CV 3/5] END ........C=1, gamma=0.1, kernel=rbf;, score=0.845 total time=   0.2s\n",
            "[CV 4/5] END ........C=1, gamma=0.1, kernel=rbf;, score=0.861 total time=   0.2s\n",
            "[CV 5/5] END ........C=1, gamma=0.1, kernel=rbf;, score=0.836 total time=   0.2s\n"
          ]
        },
        {
          "output_type": "execute_result",
          "data": {
            "text/plain": [
              "GridSearchCV(estimator=SVC(),\n",
              "             param_grid={'C': [0.1, 1], 'gamma': [1, 0.1], 'kernel': ['rbf']},\n",
              "             verbose=3)"
            ]
          },
          "metadata": {},
          "execution_count": 48
        }
      ],
      "source": [
        "svm_grid.fit(X_val, y_val)"
      ]
    },
    {
      "cell_type": "markdown",
      "source": [
        "getting best parameters:"
      ],
      "metadata": {
        "id": "lNrazdoRetiN"
      },
      "id": "lNrazdoRetiN"
    },
    {
      "cell_type": "code",
      "execution_count": null,
      "id": "oiqisCmCA2sY",
      "metadata": {
        "colab": {
          "base_uri": "https://localhost:8080/"
        },
        "id": "oiqisCmCA2sY",
        "outputId": "c35901fb-c1a5-461c-fbef-02ba72147867"
      },
      "outputs": [
        {
          "output_type": "execute_result",
          "data": {
            "text/plain": [
              "{'C': 1, 'gamma': 0.1, 'kernel': 'rbf'}"
            ]
          },
          "metadata": {},
          "execution_count": 49
        }
      ],
      "source": [
        "svm_grid.best_params_"
      ]
    },
    {
      "cell_type": "markdown",
      "source": [
        "##### the model"
      ],
      "metadata": {
        "id": "dt0v9wwje4QG"
      },
      "id": "dt0v9wwje4QG"
    },
    {
      "cell_type": "markdown",
      "source": [
        "training the SVM model on train set with the best parameters found: <br>\n",
        "(also setting probability to True so that I can call predict_proba later)"
      ],
      "metadata": {
        "id": "x8ySGCYVe7yp"
      },
      "id": "x8ySGCYVe7yp"
    },
    {
      "cell_type": "code",
      "execution_count": null,
      "id": "c5744bf7",
      "metadata": {
        "id": "c5744bf7"
      },
      "outputs": [],
      "source": [
        "svm = SVC(C=1, gamma=0.1, kernel='rbf', probability=True)"
      ]
    },
    {
      "cell_type": "code",
      "execution_count": null,
      "id": "62eef71d",
      "metadata": {
        "colab": {
          "base_uri": "https://localhost:8080/"
        },
        "id": "62eef71d",
        "outputId": "fdbb6f0b-7870-41f4-cce8-f99729a408b8"
      },
      "outputs": [
        {
          "output_type": "execute_result",
          "data": {
            "text/plain": [
              "SVC(C=1, gamma=0.1, probability=True)"
            ]
          },
          "metadata": {},
          "execution_count": 51
        }
      ],
      "source": [
        "svm.fit(X_train, y_train)"
      ]
    },
    {
      "cell_type": "markdown",
      "source": [
        "predicting labels for train set in order to find out accuracy on train set:"
      ],
      "metadata": {
        "id": "2P7SWZ8LfgRD"
      },
      "id": "2P7SWZ8LfgRD"
    },
    {
      "cell_type": "code",
      "execution_count": null,
      "id": "8f09fa99",
      "metadata": {
        "id": "8f09fa99"
      },
      "outputs": [],
      "source": [
        "train_preds = svm.predict(X_train)"
      ]
    },
    {
      "cell_type": "markdown",
      "source": [
        "printing classification report and confusion matrix and accuracy score for prediction on train set:"
      ],
      "metadata": {
        "id": "CrMwGKItfy0r"
      },
      "id": "CrMwGKItfy0r"
    },
    {
      "cell_type": "code",
      "execution_count": null,
      "id": "mzCMrOfxlIg0",
      "metadata": {
        "colab": {
          "base_uri": "https://localhost:8080/"
        },
        "id": "mzCMrOfxlIg0",
        "outputId": "369e973d-b45b-4611-ff28-4ef902d75512"
      },
      "outputs": [
        {
          "output_type": "stream",
          "name": "stdout",
          "text": [
            "              precision    recall  f1-score   support\n",
            "\n",
            "           0       0.83      0.88      0.85      3583\n",
            "           1       0.87      0.82      0.85      3622\n",
            "\n",
            "    accuracy                           0.85      7205\n",
            "   macro avg       0.85      0.85      0.85      7205\n",
            "weighted avg       0.85      0.85      0.85      7205\n",
            "\n",
            "\n",
            "[[3158  425]\n",
            " [ 653 2969]]\n",
            "\n",
            "SVM train accuracy : 0.85\n"
          ]
        }
      ],
      "source": [
        "print(classification_report(y_train, train_preds))\n",
        "print()\n",
        "print(confusion_matrix(y_train, train_preds))\n",
        "print()\n",
        "print('SVM train accuracy :', round(accuracy_score(y_train, train_preds), 2))"
      ]
    },
    {
      "cell_type": "markdown",
      "source": [
        "now predicting labels for test set:"
      ],
      "metadata": {
        "id": "f1n0nstlgErZ"
      },
      "id": "f1n0nstlgErZ"
    },
    {
      "cell_type": "code",
      "execution_count": null,
      "id": "f-TZB1RYlxsE",
      "metadata": {
        "id": "f-TZB1RYlxsE"
      },
      "outputs": [],
      "source": [
        "test_preds = svm.predict(X_test)"
      ]
    },
    {
      "cell_type": "markdown",
      "source": [
        "printing classification report and confusion matrix and accuracy score for prediction on test set:"
      ],
      "metadata": {
        "id": "-w1lXkU3gHBS"
      },
      "id": "-w1lXkU3gHBS"
    },
    {
      "cell_type": "code",
      "execution_count": null,
      "id": "kfgns1j2mGjT",
      "metadata": {
        "colab": {
          "base_uri": "https://localhost:8080/"
        },
        "id": "kfgns1j2mGjT",
        "outputId": "db4dced4-54ec-4085-9f21-4b2fcfaee2e4"
      },
      "outputs": [
        {
          "output_type": "stream",
          "name": "stdout",
          "text": [
            "              precision    recall  f1-score   support\n",
            "\n",
            "           0       0.94      0.88      0.91      1303\n",
            "           1       0.58      0.74      0.65       297\n",
            "\n",
            "    accuracy                           0.85      1600\n",
            "   macro avg       0.76      0.81      0.78      1600\n",
            "weighted avg       0.87      0.85      0.86      1600\n",
            "\n",
            "\n",
            "[[1143  160]\n",
            " [  78  219]]\n",
            "\n",
            "SVM test accuracy : 0.85\n"
          ]
        }
      ],
      "source": [
        "print(classification_report(y_test, test_preds))\n",
        "print()\n",
        "print(confusion_matrix(y_test, test_preds))\n",
        "print()\n",
        "print('SVM test accuracy :', round(accuracy_score(y_test, test_preds), 2))"
      ]
    },
    {
      "cell_type": "markdown",
      "source": [
        "##### plot decision boundary"
      ],
      "metadata": {
        "id": "J3oRh6cHrKgy"
      },
      "id": "J3oRh6cHrKgy"
    },
    {
      "cell_type": "markdown",
      "source": [
        "defining 2 functions to use for plotting decision boundaries from now on:"
      ],
      "metadata": {
        "id": "nhsLIt2crQ6Q"
      },
      "id": "nhsLIt2crQ6Q"
    },
    {
      "cell_type": "code",
      "source": [
        "def make_meshgrid(x_min, x_max, y_min, y_max):\n",
        "    xx, yy = np.meshgrid(np.arange(x_min, x_max, 0.02), np.arange(y_min, y_max, 0.02))\n",
        "    return xx, yy\n",
        "\n",
        "def plot_contours(clf, xx, yy, **params):\n",
        "    Z = clf.predict(np.c_[xx.ravel(), yy.ravel()])\n",
        "    Z = Z.reshape(xx.shape)\n",
        "    out = plt.contourf(xx, yy, Z, **params)\n",
        "    return out"
      ],
      "metadata": {
        "id": "6Oovhqa6afO_"
      },
      "id": "6Oovhqa6afO_",
      "execution_count": null,
      "outputs": []
    },
    {
      "cell_type": "code",
      "source": [
        "# training a SVM model on 2 most important features of train set; \"ip\" and \"app\":\n",
        "svm_model = SVC(C=1, gamma=0.1, kernel='rbf')\n",
        "svm_clf = svm_model.fit(X_train[:, :2], y_train)\n",
        "\n",
        "# Set up grid for plotting.\n",
        "plt.figure(figsize=(15,10))\n",
        "xx, yy = make_meshgrid(x_min, x_max, y_min, y_max)\n",
        "\n",
        "# plot contour plot and scatter plot\n",
        "plot_contours(svm_clf, xx, yy, cmap='RdBu', alpha=0.2)\n",
        "for i, color in zip(range(2), 'rby'):\n",
        "  idx = np.where(y_test == i)\n",
        "  plt.scatter(X_test[idx, 0], X_test[idx, 1], c=color, label=y_test.iloc[i], cmap='RdBu')\n",
        "\n",
        "plt.xlabel('ip')\n",
        "plt.ylabel('app')\n",
        "plt.title('decision surface for SVM (test data)')\n",
        "plt.legend()\n",
        "plt.xlim(x_min, x_max)\n",
        "plt.ylim(y_min, y_max)"
      ],
      "metadata": {
        "colab": {
          "base_uri": "https://localhost:8080/",
          "height": 644
        },
        "id": "1q7jIWUkafFZ",
        "outputId": "dd278ded-5ed4-450b-a494-5a7f3c6ba5e2"
      },
      "id": "1q7jIWUkafFZ",
      "execution_count": null,
      "outputs": [
        {
          "output_type": "execute_result",
          "data": {
            "text/plain": [
              "(-1.8507788784364754, 14.480440494933074)"
            ]
          },
          "metadata": {},
          "execution_count": 61
        },
        {
          "output_type": "display_data",
          "data": {
            "image/png": "[encoded data removed]",
            "text/plain": [
              "<Figure size 1080x720 with 1 Axes>"
            ]
          },
          "metadata": {}
        }
      ]
    },
    {
      "cell_type": "markdown",
      "source": [
        "##### plot ROC"
      ],
      "metadata": {
        "id": "NNuf_b6jzkCa"
      },
      "id": "NNuf_b6jzkCa"
    },
    {
      "cell_type": "markdown",
      "source": [
        "calling predict_proba of SVM model and grabbing probabilities of belonging to class 1:"
      ],
      "metadata": {
        "id": "X3ApTORrzxBo"
      },
      "id": "X3ApTORrzxBo"
    },
    {
      "cell_type": "code",
      "execution_count": null,
      "id": "kgz96gK_mQ6R",
      "metadata": {
        "id": "kgz96gK_mQ6R"
      },
      "outputs": [],
      "source": [
        "svm_prob = svm.predict_proba(X_test)\n",
        "svm_prob = svm_prob[:, 1]"
      ]
    },
    {
      "cell_type": "markdown",
      "source": [
        "printing auc score:"
      ],
      "metadata": {
        "id": "j7wqMFbAz8V_"
      },
      "id": "j7wqMFbAz8V_"
    },
    {
      "cell_type": "code",
      "execution_count": null,
      "id": "KFBPGzUzmusj",
      "metadata": {
        "colab": {
          "base_uri": "https://localhost:8080/"
        },
        "id": "KFBPGzUzmusj",
        "outputId": "d9565783-4e1e-414b-f3c4-4798ffbbb70e"
      },
      "outputs": [
        {
          "output_type": "stream",
          "name": "stdout",
          "text": [
            "SVM ROC AUC = 0.871\n"
          ]
        }
      ],
      "source": [
        "svm_auc = roc_auc_score(y_test, svm_prob)\n",
        "print('SVM ROC AUC = %.3f' %(svm_auc))"
      ]
    },
    {
      "cell_type": "markdown",
      "source": [
        "now plotting ROC curve:"
      ],
      "metadata": {
        "id": "OuxbQhot0Gfv"
      },
      "id": "OuxbQhot0Gfv"
    },
    {
      "cell_type": "code",
      "execution_count": null,
      "id": "w6toq3dDfkHZ",
      "metadata": {
        "id": "w6toq3dDfkHZ"
      },
      "outputs": [],
      "source": [
        "svm_fpr, svm_tpr, _ = roc_curve(y_test, svm_prob)"
      ]
    },
    {
      "cell_type": "code",
      "execution_count": null,
      "id": "8RkDlkz6fp1E",
      "metadata": {
        "colab": {
          "base_uri": "https://localhost:8080/",
          "height": 372
        },
        "id": "8RkDlkz6fp1E",
        "outputId": "eff2a62f-1943-40df-e2fb-e69871e58590"
      },
      "outputs": [
        {
          "output_type": "execute_result",
          "data": {
            "text/plain": [
              "Text(0.5, 1.0, 'ROC curve for SVM')"
            ]
          },
          "metadata": {},
          "execution_count": 65
        },
        {
          "output_type": "display_data",
          "data": {
            "image/png": "[encoded data removed]",
            "text/plain": [
              "<Figure size 576x360 with 1 Axes>"
            ]
          },
          "metadata": {}
        }
      ],
      "source": [
        "plt.figure(figsize=(8,5))\n",
        "plt.plot(svm_fpr, svm_tpr, marker='.')\n",
        "plt.xlabel('False Positive Rate')\n",
        "plt.ylabel('True Positive Rate')\n",
        "plt.title('ROC curve for SVM')"
      ]
    },
    {
      "cell_type": "markdown",
      "source": [
        "#### 3- k Nearest Neighbors"
      ],
      "metadata": {
        "id": "wznnqKGu0Nsn"
      },
      "id": "wznnqKGu0Nsn"
    },
    {
      "cell_type": "markdown",
      "source": [
        "##### cross validation"
      ],
      "metadata": {
        "id": "ALnF3UHQ0Txp"
      },
      "id": "ALnF3UHQ0Txp"
    },
    {
      "cell_type": "code",
      "execution_count": null,
      "id": "HqDoU-KAf7b0",
      "metadata": {
        "id": "HqDoU-KAf7b0"
      },
      "outputs": [],
      "source": [
        "# experimenting some values for parameters \"n_neighbors\" of knn to find better parameters\n",
        "knn_params = {'n_neighbors': [2, 3, 4, 5, 6, 7, 8, 9, 10, 15, 20]}\n",
        "knn_grid = GridSearchCV(KNeighborsClassifier(), knn_params, refit=True, verbose=5)"
      ]
    },
    {
      "cell_type": "code",
      "execution_count": null,
      "id": "W5mEGs4chJpB",
      "metadata": {
        "colab": {
          "base_uri": "https://localhost:8080/"
        },
        "id": "W5mEGs4chJpB",
        "outputId": "c22bfb0c-0d49-409b-a249-5a9013da324a"
      },
      "outputs": [
        {
          "output_type": "stream",
          "name": "stdout",
          "text": [
            "Fitting 5 folds for each of 11 candidates, totalling 55 fits\n",
            "[CV 1/5] END .....................n_neighbors=2;, score=0.817 total time=   0.0s\n",
            "[CV 2/5] END .....................n_neighbors=2;, score=0.819 total time=   0.0s\n",
            "[CV 3/5] END .....................n_neighbors=2;, score=0.814 total time=   0.0s\n",
            "[CV 4/5] END .....................n_neighbors=2;, score=0.804 total time=   0.0s\n",
            "[CV 5/5] END .....................n_neighbors=2;, score=0.815 total time=   0.0s\n",
            "[CV 1/5] END .....................n_neighbors=3;, score=0.828 total time=   0.0s\n",
            "[CV 2/5] END .....................n_neighbors=3;, score=0.809 total time=   0.1s\n",
            "[CV 3/5] END .....................n_neighbors=3;, score=0.820 total time=   0.0s\n",
            "[CV 4/5] END .....................n_neighbors=3;, score=0.827 total time=   0.0s\n",
            "[CV 5/5] END .....................n_neighbors=3;, score=0.802 total time=   0.0s\n",
            "[CV 1/5] END .....................n_neighbors=4;, score=0.820 total time=   0.1s\n",
            "[CV 2/5] END .....................n_neighbors=4;, score=0.824 total time=   0.0s\n",
            "[CV 3/5] END .....................n_neighbors=4;, score=0.827 total time=   0.0s\n",
            "[CV 4/5] END .....................n_neighbors=4;, score=0.840 total time=   0.0s\n",
            "[CV 5/5] END .....................n_neighbors=4;, score=0.822 total time=   0.0s\n",
            "[CV 1/5] END .....................n_neighbors=5;, score=0.814 total time=   0.1s\n",
            "[CV 2/5] END .....................n_neighbors=5;, score=0.816 total time=   0.0s\n",
            "[CV 3/5] END .....................n_neighbors=5;, score=0.820 total time=   0.1s\n",
            "[CV 4/5] END .....................n_neighbors=5;, score=0.837 total time=   0.0s\n",
            "[CV 5/5] END .....................n_neighbors=5;, score=0.804 total time=   0.0s\n",
            "[CV 1/5] END .....................n_neighbors=6;, score=0.816 total time=   0.0s\n",
            "[CV 2/5] END .....................n_neighbors=6;, score=0.822 total time=   0.0s\n",
            "[CV 3/5] END .....................n_neighbors=6;, score=0.830 total time=   0.0s\n",
            "[CV 4/5] END .....................n_neighbors=6;, score=0.837 total time=   0.0s\n",
            "[CV 5/5] END .....................n_neighbors=6;, score=0.806 total time=   0.0s\n",
            "[CV 1/5] END .....................n_neighbors=7;, score=0.812 total time=   0.0s\n",
            "[CV 2/5] END .....................n_neighbors=7;, score=0.822 total time=   0.0s\n",
            "[CV 3/5] END .....................n_neighbors=7;, score=0.822 total time=   0.0s\n",
            "[CV 4/5] END .....................n_neighbors=7;, score=0.835 total time=   0.1s\n",
            "[CV 5/5] END .....................n_neighbors=7;, score=0.802 total time=   0.0s\n",
            "[CV 1/5] END .....................n_neighbors=8;, score=0.816 total time=   0.1s\n",
            "[CV 2/5] END .....................n_neighbors=8;, score=0.809 total time=   0.0s\n",
            "[CV 3/5] END .....................n_neighbors=8;, score=0.846 total time=   0.1s\n",
            "[CV 4/5] END .....................n_neighbors=8;, score=0.835 total time=   0.0s\n",
            "[CV 5/5] END .....................n_neighbors=8;, score=0.809 total time=   0.0s\n",
            "[CV 1/5] END .....................n_neighbors=9;, score=0.828 total time=   0.0s\n",
            "[CV 2/5] END .....................n_neighbors=9;, score=0.820 total time=   0.1s\n",
            "[CV 3/5] END .....................n_neighbors=9;, score=0.835 total time=   0.0s\n",
            "[CV 4/5] END .....................n_neighbors=9;, score=0.841 total time=   0.0s\n",
            "[CV 5/5] END .....................n_neighbors=9;, score=0.806 total time=   0.0s\n",
            "[CV 1/5] END ....................n_neighbors=10;, score=0.820 total time=   0.0s\n",
            "[CV 2/5] END ....................n_neighbors=10;, score=0.814 total time=   0.1s\n",
            "[CV 3/5] END ....................n_neighbors=10;, score=0.840 total time=   0.1s\n",
            "[CV 4/5] END ....................n_neighbors=10;, score=0.840 total time=   0.0s\n",
            "[CV 5/5] END ....................n_neighbors=10;, score=0.807 total time=   0.1s\n",
            "[CV 1/5] END ....................n_neighbors=15;, score=0.820 total time=   0.0s\n",
            "[CV 2/5] END ....................n_neighbors=15;, score=0.811 total time=   0.1s\n",
            "[CV 3/5] END ....................n_neighbors=15;, score=0.840 total time=   0.0s\n",
            "[CV 4/5] END ....................n_neighbors=15;, score=0.846 total time=   0.0s\n",
            "[CV 5/5] END ....................n_neighbors=15;, score=0.814 total time=   0.0s\n",
            "[CV 1/5] END ....................n_neighbors=20;, score=0.820 total time=   0.0s\n",
            "[CV 2/5] END ....................n_neighbors=20;, score=0.799 total time=   0.1s\n",
            "[CV 3/5] END ....................n_neighbors=20;, score=0.827 total time=   0.0s\n",
            "[CV 4/5] END ....................n_neighbors=20;, score=0.850 total time=   0.1s\n",
            "[CV 5/5] END ....................n_neighbors=20;, score=0.801 total time=   0.1s\n"
          ]
        },
        {
          "output_type": "execute_result",
          "data": {
            "text/plain": [
              "GridSearchCV(estimator=KNeighborsClassifier(),\n",
              "             param_grid={'n_neighbors': [2, 3, 4, 5, 6, 7, 8, 9, 10, 15, 20]},\n",
              "             verbose=5)"
            ]
          },
          "metadata": {},
          "execution_count": 67
        }
      ],
      "source": [
        "# fit GridSearchCV object on validation set\n",
        "knn_grid.fit(X_val, y_val)"
      ]
    },
    {
      "cell_type": "markdown",
      "source": [
        "getting the best value for n_neighbors:"
      ],
      "metadata": {
        "id": "r-CLpxLI1FZf"
      },
      "id": "r-CLpxLI1FZf"
    },
    {
      "cell_type": "code",
      "execution_count": null,
      "id": "eqNOGerXhPR-",
      "metadata": {
        "colab": {
          "base_uri": "https://localhost:8080/"
        },
        "id": "eqNOGerXhPR-",
        "outputId": "302b0be6-1f3f-490a-e90a-f268b54acca6"
      },
      "outputs": [
        {
          "output_type": "execute_result",
          "data": {
            "text/plain": [
              "{'n_neighbors': 4}"
            ]
          },
          "metadata": {},
          "execution_count": 68
        }
      ],
      "source": [
        "knn_grid.best_params_"
      ]
    },
    {
      "cell_type": "markdown",
      "source": [
        "##### the model"
      ],
      "metadata": {
        "id": "U5QyYXnC1Qjg"
      },
      "id": "U5QyYXnC1Qjg"
    },
    {
      "cell_type": "markdown",
      "source": [
        "training the model on train set with 4 neighbors:"
      ],
      "metadata": {
        "id": "QeVgixHP1Skd"
      },
      "id": "QeVgixHP1Skd"
    },
    {
      "cell_type": "code",
      "execution_count": null,
      "id": "LIhKUxOBhX-M",
      "metadata": {
        "colab": {
          "base_uri": "https://localhost:8080/"
        },
        "id": "LIhKUxOBhX-M",
        "outputId": "b684fba2-89e0-4b3b-dbec-725a96f7c432"
      },
      "outputs": [
        {
          "output_type": "execute_result",
          "data": {
            "text/plain": [
              "KNeighborsClassifier(n_neighbors=4)"
            ]
          },
          "metadata": {},
          "execution_count": 69
        }
      ],
      "source": [
        "knn = KNeighborsClassifier(n_neighbors=4)\n",
        "knn.fit(X_train, y_train)"
      ]
    },
    {
      "cell_type": "markdown",
      "source": [
        "predicting labels for train set in order to find out accuracy on train set:"
      ],
      "metadata": {
        "id": "LWO-jdMn1zrF"
      },
      "id": "LWO-jdMn1zrF"
    },
    {
      "cell_type": "code",
      "execution_count": null,
      "id": "j1KGWJSbiJ9h",
      "metadata": {
        "id": "j1KGWJSbiJ9h"
      },
      "outputs": [],
      "source": [
        "train_preds = knn.predict(X_train)"
      ]
    },
    {
      "cell_type": "markdown",
      "source": [
        "printing classification report and confusion matrix and accuracy score for prediction on train set:"
      ],
      "metadata": {
        "id": "tH-dTJNg9LCm"
      },
      "id": "tH-dTJNg9LCm"
    },
    {
      "cell_type": "code",
      "execution_count": null,
      "id": "djPUzX_-iOmh",
      "metadata": {
        "colab": {
          "base_uri": "https://localhost:8080/"
        },
        "id": "djPUzX_-iOmh",
        "outputId": "ebe1e859-d829-4702-8313-b8bb6e5993af"
      },
      "outputs": [
        {
          "output_type": "stream",
          "name": "stdout",
          "text": [
            "              precision    recall  f1-score   support\n",
            "\n",
            "           0       0.88      0.95      0.91      3583\n",
            "           1       0.95      0.87      0.91      3622\n",
            "\n",
            "    accuracy                           0.91      7205\n",
            "   macro avg       0.91      0.91      0.91      7205\n",
            "weighted avg       0.91      0.91      0.91      7205\n",
            "\n",
            "\n",
            "[[3419  164]\n",
            " [ 484 3138]]\n",
            "\n",
            "KNN train accuracy : 0.91\n"
          ]
        }
      ],
      "source": [
        "print(classification_report(y_train, train_preds))\n",
        "print()\n",
        "print(confusion_matrix(y_train, train_preds))\n",
        "print()\n",
        "print('KNN train accuracy :', round(accuracy_score(y_train, train_preds), 2))"
      ]
    },
    {
      "cell_type": "markdown",
      "source": [
        "predicting labels for test set:"
      ],
      "metadata": {
        "id": "YtkbVaS59B-G"
      },
      "id": "YtkbVaS59B-G"
    },
    {
      "cell_type": "code",
      "execution_count": null,
      "id": "hm4etO63iXcN",
      "metadata": {
        "id": "hm4etO63iXcN"
      },
      "outputs": [],
      "source": [
        "test_preds = knn.predict(X_test)"
      ]
    },
    {
      "cell_type": "markdown",
      "source": [
        "printing classification report and confusion matrix and accuracy score for prediction of model on test set:"
      ],
      "metadata": {
        "id": "5b1sP4g79Q3W"
      },
      "id": "5b1sP4g79Q3W"
    },
    {
      "cell_type": "code",
      "execution_count": null,
      "id": "vfAIyYvvioUp",
      "metadata": {
        "colab": {
          "base_uri": "https://localhost:8080/"
        },
        "id": "vfAIyYvvioUp",
        "outputId": "b969978d-c316-4218-b691-f8c1df9f6e85"
      },
      "outputs": [
        {
          "output_type": "stream",
          "name": "stdout",
          "text": [
            "              precision    recall  f1-score   support\n",
            "\n",
            "           0       0.93      0.91      0.92      1303\n",
            "           1       0.63      0.68      0.65       297\n",
            "\n",
            "    accuracy                           0.87      1600\n",
            "   macro avg       0.78      0.79      0.78      1600\n",
            "weighted avg       0.87      0.87      0.87      1600\n",
            "\n",
            "\n",
            "[[1183  120]\n",
            " [  95  202]]\n",
            "\n",
            "KNN test accuracy : 0.87\n"
          ]
        }
      ],
      "source": [
        "print(classification_report(y_test, test_preds))\n",
        "print()\n",
        "print(confusion_matrix(y_test, test_preds))\n",
        "print()\n",
        "print('KNN test accuracy :', round(accuracy_score(y_test, test_preds), 2))"
      ]
    },
    {
      "cell_type": "markdown",
      "source": [
        "##### plot decision boundary"
      ],
      "metadata": {
        "id": "vBdQgwPz9aYE"
      },
      "id": "vBdQgwPz9aYE"
    },
    {
      "cell_type": "markdown",
      "source": [
        "defining another function for plotting knn decision boundary:"
      ],
      "metadata": {
        "id": "u_9HGLy89baV"
      },
      "id": "u_9HGLy89baV"
    },
    {
      "cell_type": "code",
      "source": [
        "def plot_mesh(clf, xx, yy, **params):\n",
        "    Z = clf.predict(np.c_[xx.ravel(), yy.ravel()])\n",
        "    Z = Z.reshape(xx.shape)\n",
        "    out = plt.pcolormesh(xx, yy, Z, **params)\n",
        "    return out"
      ],
      "metadata": {
        "id": "vcVxRorhxyu1"
      },
      "id": "vcVxRorhxyu1",
      "execution_count": null,
      "outputs": []
    },
    {
      "cell_type": "code",
      "source": [
        "# training another knn model on 2 most important features of train set; \"ip\" and \"app\"\n",
        "knn_model = KNeighborsClassifier(n_neighbors=4)\n",
        "knn_clf = knn_model.fit(X_train[:, :2], y_train)\n",
        "\n",
        "plt.figure(figsize=(15,10))\n",
        "xx, yy = make_meshgrid(x_min, x_max, y_min, y_max)\n",
        "\n",
        "# Plot the test data and the classification with the decision boundary\n",
        "plot_mesh(knn_clf, xx, yy, cmap='RdBu', alpha=0.2)\n",
        "for i, color in zip(range(2), 'rby'):\n",
        "  idx = np.where(y_test == i)\n",
        "  plt.scatter(X_test[idx, 0], X_test[idx, 1], c=color, label=y_test.iloc[i], cmap='RdBu')\n",
        "plt.xlabel('ip')\n",
        "plt.ylabel('app')\n",
        "plt.title('decision surface for kNN (test data)')\n",
        "plt.legend()\n",
        "plt.xlim(x_min, x_max)\n",
        "plt.ylim(y_min, y_max)"
      ],
      "metadata": {
        "colab": {
          "base_uri": "https://localhost:8080/",
          "height": 644
        },
        "id": "0Qwy4kD5xTTf",
        "outputId": "7fe50475-bb80-4615-d591-9c407a954101"
      },
      "id": "0Qwy4kD5xTTf",
      "execution_count": null,
      "outputs": [
        {
          "output_type": "execute_result",
          "data": {
            "text/plain": [
              "(-1.8507788784364754, 14.480440494933074)"
            ]
          },
          "metadata": {},
          "execution_count": 78
        },
        {
          "output_type": "display_data",
          "data": {
            "image/png": "[encoded data removed]",
            "text/plain": [
              "<Figure size 1080x720 with 1 Axes>"
            ]
          },
          "metadata": {}
        }
      ]
    },
    {
      "cell_type": "markdown",
      "source": [
        "##### plot ROC"
      ],
      "metadata": {
        "id": "-QtXTWWP--wa"
      },
      "id": "-QtXTWWP--wa"
    },
    {
      "cell_type": "code",
      "execution_count": null,
      "id": "hS3cljAtit6a",
      "metadata": {
        "id": "hS3cljAtit6a"
      },
      "outputs": [],
      "source": [
        "knn_prob = knn.predict_proba(X_test)\n",
        "knn_prob = knn_prob[:, 1]"
      ]
    },
    {
      "cell_type": "markdown",
      "source": [
        "computing auc score:"
      ],
      "metadata": {
        "id": "vn2BNtPJ_EMA"
      },
      "id": "vn2BNtPJ_EMA"
    },
    {
      "cell_type": "code",
      "execution_count": null,
      "id": "mbI_QRHMi-ir",
      "metadata": {
        "colab": {
          "base_uri": "https://localhost:8080/"
        },
        "id": "mbI_QRHMi-ir",
        "outputId": "c3dabf82-2593-4f5c-9ce7-d8e3ed2e9de0"
      },
      "outputs": [
        {
          "output_type": "stream",
          "name": "stdout",
          "text": [
            "KNN ROC AUC = 0.850\n"
          ]
        }
      ],
      "source": [
        "knn_auc = roc_auc_score(y_test, knn_prob)\n",
        "print('KNN ROC AUC = %.3f' %(knn_auc))"
      ]
    },
    {
      "cell_type": "markdown",
      "source": [
        "plotting ROC curve:"
      ],
      "metadata": {
        "id": "zo7eBtKR_H3S"
      },
      "id": "zo7eBtKR_H3S"
    },
    {
      "cell_type": "code",
      "execution_count": null,
      "id": "7RfsS9AykOY6",
      "metadata": {
        "id": "7RfsS9AykOY6"
      },
      "outputs": [],
      "source": [
        "knn_fpr, knn_tpr, _ = roc_curve(y_test, knn_prob)"
      ]
    },
    {
      "cell_type": "code",
      "execution_count": null,
      "id": "8dZyIwWPkTKk",
      "metadata": {
        "colab": {
          "base_uri": "https://localhost:8080/",
          "height": 372
        },
        "id": "8dZyIwWPkTKk",
        "outputId": "f6c84a41-5eb1-408e-f671-d45050a77e90"
      },
      "outputs": [
        {
          "output_type": "execute_result",
          "data": {
            "text/plain": [
              "Text(0.5, 1.0, 'ROC curve for KNN')"
            ]
          },
          "metadata": {},
          "execution_count": 82
        },
        {
          "output_type": "display_data",
          "data": {
            "image/png": "[encoded data removed]",
            "text/plain": [
              "<Figure size 576x360 with 1 Axes>"
            ]
          },
          "metadata": {}
        }
      ],
      "source": [
        "plt.figure(figsize=(8,5))\n",
        "plt.plot(knn_fpr, knn_tpr, marker='.')\n",
        "plt.xlabel('False Positive Rate')\n",
        "plt.ylabel('True Positive Rate')\n",
        "plt.title('ROC curve for KNN')"
      ]
    },
    {
      "cell_type": "markdown",
      "source": [
        "#### 4- Decision Tree"
      ],
      "metadata": {
        "id": "_LxbYAm5_i1_"
      },
      "id": "_LxbYAm5_i1_"
    },
    {
      "cell_type": "markdown",
      "source": [
        "##### cross validation"
      ],
      "metadata": {
        "id": "XcgQTxKSCre5"
      },
      "id": "XcgQTxKSCre5"
    },
    {
      "cell_type": "markdown",
      "source": [
        "using GridSearchCV with validation set to find better values for some of the main parameters of the model:"
      ],
      "metadata": {
        "id": "6kk70LlX_8k1"
      },
      "id": "6kk70LlX_8k1"
    },
    {
      "cell_type": "code",
      "execution_count": null,
      "id": "hm-iQa5rk4qV",
      "metadata": {
        "id": "hm-iQa5rk4qV"
      },
      "outputs": [],
      "source": [
        "# experimenting two values for parameter \"criterion\" of decision tree\n",
        "dt_params = {'criterion': ['gini', 'entropy']}\n",
        "dt_grid = GridSearchCV(DecisionTreeClassifier(), dt_params, refit=True, verbose=5)"
      ]
    },
    {
      "cell_type": "code",
      "execution_count": null,
      "id": "ycx_GzKUmgBb",
      "metadata": {
        "colab": {
          "base_uri": "https://localhost:8080/"
        },
        "id": "ycx_GzKUmgBb",
        "outputId": "4736778f-4877-4372-868e-71fc002b3794"
      },
      "outputs": [
        {
          "output_type": "stream",
          "name": "stdout",
          "text": [
            "Fitting 5 folds for each of 2 candidates, totalling 10 fits\n",
            "[CV 1/5] END ....................criterion=gini;, score=0.885 total time=   0.0s\n",
            "[CV 2/5] END ....................criterion=gini;, score=0.913 total time=   0.0s\n",
            "[CV 3/5] END ....................criterion=gini;, score=0.896 total time=   0.0s\n",
            "[CV 4/5] END ....................criterion=gini;, score=0.885 total time=   0.0s\n",
            "[CV 5/5] END ....................criterion=gini;, score=0.898 total time=   0.0s\n",
            "[CV 1/5] END .................criterion=entropy;, score=0.895 total time=   0.0s\n",
            "[CV 2/5] END .................criterion=entropy;, score=0.903 total time=   0.0s\n",
            "[CV 3/5] END .................criterion=entropy;, score=0.905 total time=   0.0s\n",
            "[CV 4/5] END .................criterion=entropy;, score=0.901 total time=   0.0s\n",
            "[CV 5/5] END .................criterion=entropy;, score=0.891 total time=   0.0s\n"
          ]
        },
        {
          "output_type": "execute_result",
          "data": {
            "text/plain": [
              "GridSearchCV(estimator=DecisionTreeClassifier(),\n",
              "             param_grid={'criterion': ['gini', 'entropy']}, verbose=5)"
            ]
          },
          "metadata": {},
          "execution_count": 84
        }
      ],
      "source": [
        "dt_grid.fit(X_val, y_val)"
      ]
    },
    {
      "cell_type": "markdown",
      "source": [
        "printing the best parameters found:"
      ],
      "metadata": {
        "id": "RAYLFqItBDH6"
      },
      "id": "RAYLFqItBDH6"
    },
    {
      "cell_type": "code",
      "execution_count": null,
      "id": "K2F5Rabvmtgd",
      "metadata": {
        "colab": {
          "base_uri": "https://localhost:8080/"
        },
        "id": "K2F5Rabvmtgd",
        "outputId": "e1cdc9b8-ae45-4eb4-b706-91643a9f60f5"
      },
      "outputs": [
        {
          "output_type": "execute_result",
          "data": {
            "text/plain": [
              "{'criterion': 'entropy'}"
            ]
          },
          "metadata": {},
          "execution_count": 85
        }
      ],
      "source": [
        "dt_grid.best_params_"
      ]
    },
    {
      "cell_type": "markdown",
      "source": [
        "##### the model"
      ],
      "metadata": {
        "id": "b1hWvEtzBEOB"
      },
      "id": "b1hWvEtzBEOB"
    },
    {
      "cell_type": "markdown",
      "source": [
        "training the decision tree model on train set with the best parameters found:"
      ],
      "metadata": {
        "id": "nhomaiQkBNnq"
      },
      "id": "nhomaiQkBNnq"
    },
    {
      "cell_type": "code",
      "execution_count": null,
      "id": "HvPLS9DYmyFd",
      "metadata": {
        "colab": {
          "base_uri": "https://localhost:8080/"
        },
        "id": "HvPLS9DYmyFd",
        "outputId": "062ff43d-0948-44e8-8353-eec9e0f086c2"
      },
      "outputs": [
        {
          "output_type": "execute_result",
          "data": {
            "text/plain": [
              "DecisionTreeClassifier(criterion='entropy')"
            ]
          },
          "metadata": {},
          "execution_count": 86
        }
      ],
      "source": [
        "dt = DecisionTreeClassifier(criterion='entropy')\n",
        "dt.fit(X_train, y_train)"
      ]
    },
    {
      "cell_type": "markdown",
      "source": [
        "printing classification report and confusion matrix and accuracy score for prediction on train set:"
      ],
      "metadata": {
        "id": "RzcCB_nnBdFy"
      },
      "id": "RzcCB_nnBdFy"
    },
    {
      "cell_type": "code",
      "execution_count": null,
      "id": "idDjOlhxnId4",
      "metadata": {
        "colab": {
          "base_uri": "https://localhost:8080/"
        },
        "id": "idDjOlhxnId4",
        "outputId": "e7bf3e94-f5ef-4b22-bd1c-21e1a74bcca2"
      },
      "outputs": [
        {
          "output_type": "stream",
          "name": "stdout",
          "text": [
            "              precision    recall  f1-score   support\n",
            "\n",
            "           0       1.00      1.00      1.00      3583\n",
            "           1       1.00      1.00      1.00      3622\n",
            "\n",
            "    accuracy                           1.00      7205\n",
            "   macro avg       1.00      1.00      1.00      7205\n",
            "weighted avg       1.00      1.00      1.00      7205\n",
            "\n",
            "\n",
            "[[3583    0]\n",
            " [   0 3622]]\n",
            "\n",
            "Decision tree train accuracy : 1.0\n"
          ]
        }
      ],
      "source": [
        "train_preds = dt.predict(X_train)\n",
        "print(classification_report(y_train, train_preds))\n",
        "print()\n",
        "print(confusion_matrix(y_train, train_preds))\n",
        "print()\n",
        "print('Decision tree train accuracy :', round(accuracy_score(y_train, train_preds), 2))"
      ]
    },
    {
      "cell_type": "markdown",
      "source": [
        "printing classification report and confusion matrix and accuracy score for prediction on test set:"
      ],
      "metadata": {
        "id": "kPX0eWOaBgGp"
      },
      "id": "kPX0eWOaBgGp"
    },
    {
      "cell_type": "code",
      "execution_count": null,
      "id": "aCfaAtipn3wA",
      "metadata": {
        "colab": {
          "base_uri": "https://localhost:8080/"
        },
        "id": "aCfaAtipn3wA",
        "outputId": "81480ee6-8540-4aa5-eff3-fbb9e9e38067"
      },
      "outputs": [
        {
          "output_type": "stream",
          "name": "stdout",
          "text": [
            "              precision    recall  f1-score   support\n",
            "\n",
            "           0       0.96      0.91      0.93      1303\n",
            "           1       0.67      0.82      0.74       297\n",
            "\n",
            "    accuracy                           0.89      1600\n",
            "   macro avg       0.82      0.87      0.84      1600\n",
            "weighted avg       0.91      0.89      0.90      1600\n",
            "\n",
            "\n",
            "[[1184  119]\n",
            " [  52  245]]\n",
            "\n",
            "Decision tree test accuracy : 0.89\n"
          ]
        }
      ],
      "source": [
        "test_preds = dt.predict(X_test)\n",
        "print(classification_report(y_test, test_preds))\n",
        "print()\n",
        "print(confusion_matrix(y_test, test_preds))\n",
        "print()\n",
        "print('Decision tree test accuracy :', round(accuracy_score(y_test, test_preds), 2))"
      ]
    },
    {
      "cell_type": "markdown",
      "source": [
        "##### plot decision boundary"
      ],
      "metadata": {
        "id": "MSCOjpdABnVy"
      },
      "id": "MSCOjpdABnVy"
    },
    {
      "cell_type": "markdown",
      "source": [
        "plotting the dicision boundary of decision tree to see how it classifies test set:"
      ],
      "metadata": {
        "id": "V__BXlyqCKnP"
      },
      "id": "V__BXlyqCKnP"
    },
    {
      "cell_type": "code",
      "source": [
        "# training another model on 2 most important features of train set; \"ip\" and \"app\"\n",
        "dt_model = DecisionTreeClassifier(criterion='entropy')\n",
        "dt_clf = dt_model.fit(X_train[:, :2], y_train)\n",
        "\n",
        "# set up of plot\n",
        "plt.figure(figsize=(20,15))\n",
        "xx, yy = make_meshgrid(x_min, x_max, y_min, y_max)\n",
        "\n",
        "# Plot the classification with the decision boundary\n",
        "plot_contours(dt_clf, xx, yy, cmap='RdBu', alpha=0.2)\n",
        "for i, color in zip(range(2), 'rby'):\n",
        "  idx = np.where(y_test == i)\n",
        "  plt.scatter(X_test[idx, 0], X_test[idx, 1], c=color, label=y_test.iloc[i], cmap='RdBu')\n",
        "plt.xlabel('ip')\n",
        "plt.ylabel('app')\n",
        "plt.title('Decision surface of decision tree classifier (test data)')\n",
        "plt.legend()\n",
        "plt.xlim(x_min, x_max)\n",
        "plt.ylim(y_min, y_max)"
      ],
      "metadata": {
        "colab": {
          "base_uri": "https://localhost:8080/",
          "height": 916
        },
        "id": "5g8jN8rBz5eK",
        "outputId": "7cf5d52c-bf80-435c-ea02-56255bcda1f5"
      },
      "id": "5g8jN8rBz5eK",
      "execution_count": null,
      "outputs": [
        {
          "output_type": "execute_result",
          "data": {
            "text/plain": [
              "(-1.8507788784364754, 14.480440494933074)"
            ]
          },
          "metadata": {},
          "execution_count": 90
        },
        {
          "output_type": "display_data",
          "data": {
            "image/png": "[encoded data removed]",
            "text/plain": [
              "<Figure size 1440x1080 with 1 Axes>"
            ]
          },
          "metadata": {}
        }
      ]
    },
    {
      "cell_type": "markdown",
      "source": [
        "##### plot ROC"
      ],
      "metadata": {
        "id": "_29rS5OVCS8K"
      },
      "id": "_29rS5OVCS8K"
    },
    {
      "cell_type": "markdown",
      "source": [
        "calling predict_proba of the model to get the probabilities of each instance belonging to each class and grabbing only probabilities of belonging to class 1:"
      ],
      "metadata": {
        "id": "azvFe2B7DA98"
      },
      "id": "azvFe2B7DA98"
    },
    {
      "cell_type": "code",
      "execution_count": null,
      "id": "Y3zoY8veoH6T",
      "metadata": {
        "id": "Y3zoY8veoH6T"
      },
      "outputs": [],
      "source": [
        "dt_prob = dt.predict_proba(X_test)\n",
        "dt_prob = dt_prob[:, 1]"
      ]
    },
    {
      "cell_type": "markdown",
      "source": [
        "printing auc score:"
      ],
      "metadata": {
        "id": "RAXDrNhgDGiV"
      },
      "id": "RAXDrNhgDGiV"
    },
    {
      "cell_type": "code",
      "execution_count": null,
      "id": "r_UPWWsfoiBE",
      "metadata": {
        "colab": {
          "base_uri": "https://localhost:8080/"
        },
        "id": "r_UPWWsfoiBE",
        "outputId": "a0cada43-e4d7-4722-8ff2-cd15b004416f"
      },
      "outputs": [
        {
          "output_type": "stream",
          "name": "stdout",
          "text": [
            "Decision tree ROC AUC = 0.867\n"
          ]
        }
      ],
      "source": [
        "dt_auc = roc_auc_score(y_test, dt_prob)\n",
        "print('Decision tree ROC AUC = %.3f' %(dt_auc))"
      ]
    },
    {
      "cell_type": "markdown",
      "source": [
        "plotting ROC curve:"
      ],
      "metadata": {
        "id": "k4FS6-ljDM6c"
      },
      "id": "k4FS6-ljDM6c"
    },
    {
      "cell_type": "code",
      "execution_count": null,
      "id": "iKeTnr6dpXWa",
      "metadata": {
        "id": "iKeTnr6dpXWa"
      },
      "outputs": [],
      "source": [
        "# false positive rate and true positive rate\n",
        "dt_fpr, dt_tpr, _ = roc_curve(y_test, dt_prob)"
      ]
    },
    {
      "cell_type": "code",
      "execution_count": null,
      "id": "D1HZiUGgp8_Z",
      "metadata": {
        "colab": {
          "base_uri": "https://localhost:8080/",
          "height": 372
        },
        "id": "D1HZiUGgp8_Z",
        "outputId": "8ce931fe-5c19-4c53-bab3-d0b0142d331e"
      },
      "outputs": [
        {
          "output_type": "execute_result",
          "data": {
            "text/plain": [
              "Text(0.5, 1.0, 'ROC curve for Decision tree')"
            ]
          },
          "metadata": {},
          "execution_count": 94
        },
        {
          "output_type": "display_data",
          "data": {
            "image/png": "[encoded data removed]",
            "text/plain": [
              "<Figure size 576x360 with 1 Axes>"
            ]
          },
          "metadata": {}
        }
      ],
      "source": [
        "plt.figure(figsize=(8,5))\n",
        "plt.plot(dt_fpr, dt_tpr, marker='.')\n",
        "plt.xlabel('False Positive Rate')\n",
        "plt.ylabel('True Positive Rate')\n",
        "plt.title('ROC curve for Decision tree')"
      ]
    },
    {
      "cell_type": "markdown",
      "source": [
        "#### 5- Random Forest"
      ],
      "metadata": {
        "id": "ULTs_dvUDY90"
      },
      "id": "ULTs_dvUDY90"
    },
    {
      "cell_type": "markdown",
      "source": [
        "##### cross validation"
      ],
      "metadata": {
        "id": "sY6HMimyDZfc"
      },
      "id": "sY6HMimyDZfc"
    },
    {
      "cell_type": "markdown",
      "source": [
        "experimenting some values for \"n_estimators\" parameter (number of trees) of random forest model and using GridSearchCV with validation set to find the best value among them:"
      ],
      "metadata": {
        "id": "M3vtakBgDp_K"
      },
      "id": "M3vtakBgDp_K"
    },
    {
      "cell_type": "code",
      "execution_count": null,
      "id": "0Qu6Vhe9qZx7",
      "metadata": {
        "id": "0Qu6Vhe9qZx7"
      },
      "outputs": [],
      "source": [
        "rf_params = {'n_estimators': [50, 100, 150, 200, 250, 300]}\n",
        "rf_grid = GridSearchCV(RandomForestClassifier(), rf_params, refit=True, verbose=5)"
      ]
    },
    {
      "cell_type": "code",
      "execution_count": null,
      "id": "sh3BPaKRswZ7",
      "metadata": {
        "colab": {
          "base_uri": "https://localhost:8080/"
        },
        "id": "sh3BPaKRswZ7",
        "outputId": "21fde54f-a765-4dc6-b4b9-0a7ac1664585"
      },
      "outputs": [
        {
          "output_type": "stream",
          "name": "stdout",
          "text": [
            "Fitting 5 folds for each of 6 candidates, totalling 30 fits\n",
            "[CV 1/5] END ...................n_estimators=50;, score=0.926 total time=   0.2s\n",
            "[CV 2/5] END ...................n_estimators=50;, score=0.929 total time=   0.2s\n",
            "[CV 3/5] END ...................n_estimators=50;, score=0.926 total time=   0.2s\n",
            "[CV 4/5] END ...................n_estimators=50;, score=0.929 total time=   0.2s\n",
            "[CV 5/5] END ...................n_estimators=50;, score=0.922 total time=   0.2s\n",
            "[CV 1/5] END ..................n_estimators=100;, score=0.919 total time=   0.4s\n",
            "[CV 2/5] END ..................n_estimators=100;, score=0.927 total time=   0.4s\n",
            "[CV 3/5] END ..................n_estimators=100;, score=0.921 total time=   0.4s\n",
            "[CV 4/5] END ..................n_estimators=100;, score=0.921 total time=   0.4s\n",
            "[CV 5/5] END ..................n_estimators=100;, score=0.922 total time=   0.3s\n",
            "[CV 1/5] END ..................n_estimators=150;, score=0.924 total time=   0.5s\n",
            "[CV 2/5] END ..................n_estimators=150;, score=0.930 total time=   0.5s\n",
            "[CV 3/5] END ..................n_estimators=150;, score=0.922 total time=   0.5s\n",
            "[CV 4/5] END ..................n_estimators=150;, score=0.926 total time=   0.5s\n",
            "[CV 5/5] END ..................n_estimators=150;, score=0.925 total time=   0.5s\n",
            "[CV 1/5] END ..................n_estimators=200;, score=0.927 total time=   0.7s\n",
            "[CV 2/5] END ..................n_estimators=200;, score=0.927 total time=   0.7s\n",
            "[CV 3/5] END ..................n_estimators=200;, score=0.932 total time=   0.7s\n",
            "[CV 4/5] END ..................n_estimators=200;, score=0.926 total time=   0.7s\n",
            "[CV 5/5] END ..................n_estimators=200;, score=0.922 total time=   0.7s\n",
            "[CV 1/5] END ..................n_estimators=250;, score=0.919 total time=   0.9s\n",
            "[CV 2/5] END ..................n_estimators=250;, score=0.927 total time=   0.9s\n",
            "[CV 3/5] END ..................n_estimators=250;, score=0.932 total time=   0.9s\n",
            "[CV 4/5] END ..................n_estimators=250;, score=0.927 total time=   0.9s\n",
            "[CV 5/5] END ..................n_estimators=250;, score=0.925 total time=   0.9s\n",
            "[CV 1/5] END ..................n_estimators=300;, score=0.922 total time=   1.1s\n",
            "[CV 2/5] END ..................n_estimators=300;, score=0.929 total time=   1.0s\n",
            "[CV 3/5] END ..................n_estimators=300;, score=0.929 total time=   1.0s\n",
            "[CV 4/5] END ..................n_estimators=300;, score=0.924 total time=   1.7s\n",
            "[CV 5/5] END ..................n_estimators=300;, score=0.924 total time=   1.1s\n"
          ]
        },
        {
          "output_type": "execute_result",
          "data": {
            "text/plain": [
              "GridSearchCV(estimator=RandomForestClassifier(),\n",
              "             param_grid={'n_estimators': [50, 100, 150, 200, 250, 300]},\n",
              "             verbose=5)"
            ]
          },
          "metadata": {},
          "execution_count": 96
        }
      ],
      "source": [
        "rf_grid.fit(X_val, y_val)"
      ]
    },
    {
      "cell_type": "markdown",
      "source": [
        "printing the best n_estimator found:"
      ],
      "metadata": {
        "id": "9cmie_EbEWaQ"
      },
      "id": "9cmie_EbEWaQ"
    },
    {
      "cell_type": "code",
      "execution_count": null,
      "id": "12WdPlzbs31y",
      "metadata": {
        "id": "12WdPlzbs31y",
        "outputId": "7574816d-c952-4769-cf05-eff6aef9aeba",
        "colab": {
          "base_uri": "https://localhost:8080/"
        }
      },
      "outputs": [
        {
          "output_type": "execute_result",
          "data": {
            "text/plain": [
              "{'n_estimators': 200}"
            ]
          },
          "metadata": {},
          "execution_count": 97
        }
      ],
      "source": [
        "rf_grid.best_params_"
      ]
    },
    {
      "cell_type": "markdown",
      "source": [
        "##### the model"
      ],
      "metadata": {
        "id": "pinwBF8MEbrw"
      },
      "id": "pinwBF8MEbrw"
    },
    {
      "cell_type": "markdown",
      "source": [
        "training the random forest model on train set with the best value found for parameter:"
      ],
      "metadata": {
        "id": "ws8i0WmnEfkg"
      },
      "id": "ws8i0WmnEfkg"
    },
    {
      "cell_type": "code",
      "execution_count": null,
      "id": "3cf2a589",
      "metadata": {
        "id": "3cf2a589",
        "outputId": "03d77df5-a36f-476b-a6f7-3c6adc00253b",
        "colab": {
          "base_uri": "https://localhost:8080/"
        }
      },
      "outputs": [
        {
          "output_type": "execute_result",
          "data": {
            "text/plain": [
              "RandomForestClassifier(n_estimators=200)"
            ]
          },
          "metadata": {},
          "execution_count": 98
        }
      ],
      "source": [
        "rf = RandomForestClassifier(n_estimators=200)\n",
        "rf.fit(X_train, y_train)"
      ]
    },
    {
      "cell_type": "markdown",
      "source": [
        "printing classification report and confusion matrix and accuracy score for prediction on train set:"
      ],
      "metadata": {
        "id": "_fUL6bv_Fc2B"
      },
      "id": "_fUL6bv_Fc2B"
    },
    {
      "cell_type": "code",
      "execution_count": null,
      "id": "06f6e9d1",
      "metadata": {
        "id": "06f6e9d1",
        "outputId": "7640a2a1-9623-4403-b78f-5c1c11736cda",
        "colab": {
          "base_uri": "https://localhost:8080/"
        }
      },
      "outputs": [
        {
          "output_type": "stream",
          "name": "stdout",
          "text": [
            "              precision    recall  f1-score   support\n",
            "\n",
            "           0       1.00      1.00      1.00      3583\n",
            "           1       1.00      1.00      1.00      3622\n",
            "\n",
            "    accuracy                           1.00      7205\n",
            "   macro avg       1.00      1.00      1.00      7205\n",
            "weighted avg       1.00      1.00      1.00      7205\n",
            "\n",
            "\n",
            "[[3583    0]\n",
            " [   0 3622]]\n",
            "\n",
            "Random forest train accuracy : 1.0\n"
          ]
        }
      ],
      "source": [
        "train_preds = rf.predict(X_train)\n",
        "print(classification_report(y_train, train_preds))\n",
        "print()\n",
        "print(confusion_matrix(y_train, train_preds))\n",
        "print()\n",
        "print('Random forest train accuracy :', round(accuracy_score(y_train, train_preds), 2))"
      ]
    },
    {
      "cell_type": "markdown",
      "source": [
        "printing classification report and confusion matrix and accuracy score for prediction on test set:"
      ],
      "metadata": {
        "id": "IWU2S7bkFimn"
      },
      "id": "IWU2S7bkFimn"
    },
    {
      "cell_type": "code",
      "execution_count": null,
      "id": "624e68b0",
      "metadata": {
        "id": "624e68b0",
        "outputId": "df7fb578-3266-4f9f-c4a6-81866a25ea6e",
        "colab": {
          "base_uri": "https://localhost:8080/"
        }
      },
      "outputs": [
        {
          "output_type": "stream",
          "name": "stdout",
          "text": [
            "              precision    recall  f1-score   support\n",
            "\n",
            "           0       0.96      0.97      0.97      1303\n",
            "           1       0.87      0.83      0.85       297\n",
            "\n",
            "    accuracy                           0.95      1600\n",
            "   macro avg       0.92      0.90      0.91      1600\n",
            "weighted avg       0.95      0.95      0.95      1600\n",
            "\n",
            "\n",
            "[[1267   36]\n",
            " [  50  247]]\n",
            "\n",
            "Random forest test accuracy : 0.95\n"
          ]
        }
      ],
      "source": [
        "test_preds = rf.predict(X_test)\n",
        "print(classification_report(y_test, test_preds))\n",
        "print()\n",
        "print(confusion_matrix(y_test, test_preds))\n",
        "print()\n",
        "print('Random forest test accuracy :', round(accuracy_score(y_test, test_preds), 2))"
      ]
    },
    {
      "cell_type": "markdown",
      "source": [
        "##### plot decision boundary"
      ],
      "metadata": {
        "id": "eo_rzMc4FnBW"
      },
      "id": "eo_rzMc4FnBW"
    },
    {
      "cell_type": "code",
      "source": [
        "# training a random forest model on 2 most important features of train set; \"ip\" and \"app\"\n",
        "rf_model = RandomForestClassifier(n_estimators=200)\n",
        "rf_clf = rf_model.fit(X_train[:, :2], y_train)\n",
        "\n",
        "plt.figure(figsize=(20,15))\n",
        "xx, yy = make_meshgrid(x_min, x_max, y_min, y_max)\n",
        "\n",
        "# plot test data and classification boundaries\n",
        "plot_contours(rf_clf, xx, yy, cmap='RdBu', alpha=0.2)\n",
        "for i, color in zip(range(2), 'rby'):\n",
        "  idx = np.where(y_test == i)\n",
        "  plt.scatter(X_test[idx, 0], X_test[idx, 1], c=color, label=y_test.iloc[i], cmap='RdBu')\n",
        "plt.xlabel('ip')\n",
        "plt.ylabel('app')\n",
        "plt.title('Decision surface of Random Forest classifier (test data)')\n",
        "plt.legend()\n",
        "plt.xlim(x_min, x_max)\n",
        "plt.ylim(y_min, y_max)"
      ],
      "metadata": {
        "colab": {
          "base_uri": "https://localhost:8080/",
          "height": 916
        },
        "id": "rBAr32wX5fVS",
        "outputId": "0ea046c6-afef-4e0f-d5c7-5f80aa95c765"
      },
      "id": "rBAr32wX5fVS",
      "execution_count": null,
      "outputs": [
        {
          "output_type": "execute_result",
          "data": {
            "text/plain": [
              "(-1.8507788784364754, 14.480440494933074)"
            ]
          },
          "metadata": {},
          "execution_count": 101
        },
        {
          "output_type": "display_data",
          "data": {
            "image/png": "[encoded data removed]",
            "text/plain": [
              "<Figure size 1440x1080 with 1 Axes>"
            ]
          },
          "metadata": {}
        }
      ]
    },
    {
      "cell_type": "markdown",
      "source": [
        "##### plot ROC"
      ],
      "metadata": {
        "id": "XWKlryc9Gxck"
      },
      "id": "XWKlryc9Gxck"
    },
    {
      "cell_type": "code",
      "execution_count": null,
      "id": "a486297d",
      "metadata": {
        "id": "a486297d"
      },
      "outputs": [],
      "source": [
        "rf_prob = rf.predict_proba(X_test)\n",
        "rf_prob = rf_prob[:, 1]"
      ]
    },
    {
      "cell_type": "code",
      "execution_count": null,
      "id": "12009fff",
      "metadata": {
        "id": "12009fff",
        "outputId": "a48413fb-0819-45cf-864d-55d8596d941a",
        "colab": {
          "base_uri": "https://localhost:8080/"
        }
      },
      "outputs": [
        {
          "output_type": "stream",
          "name": "stdout",
          "text": [
            "Random forest ROC AUC = 0.947\n"
          ]
        }
      ],
      "source": [
        "# print auc score\n",
        "rf_auc = roc_auc_score(y_test, rf_prob)\n",
        "print('Random forest ROC AUC = %.3f' %(rf_auc))"
      ]
    },
    {
      "cell_type": "markdown",
      "source": [
        "plotting ROC curve:"
      ],
      "metadata": {
        "id": "TsuHVYobG71R"
      },
      "id": "TsuHVYobG71R"
    },
    {
      "cell_type": "code",
      "execution_count": null,
      "id": "6965c55e",
      "metadata": {
        "id": "6965c55e"
      },
      "outputs": [],
      "source": [
        "rf_fpr, rf_tpr, _ = roc_curve(y_test, rf_prob)"
      ]
    },
    {
      "cell_type": "code",
      "execution_count": null,
      "id": "e6e9a34f",
      "metadata": {
        "id": "e6e9a34f",
        "outputId": "20294041-c86a-453e-d779-4f1c479b7c42",
        "colab": {
          "base_uri": "https://localhost:8080/",
          "height": 372
        }
      },
      "outputs": [
        {
          "output_type": "execute_result",
          "data": {
            "text/plain": [
              "Text(0.5, 1.0, 'ROC curve for random forest')"
            ]
          },
          "metadata": {},
          "execution_count": 105
        },
        {
          "output_type": "display_data",
          "data": {
            "image/png": "[encoded data removed]",
            "text/plain": [
              "<Figure size 576x360 with 1 Axes>"
            ]
          },
          "metadata": {}
        }
      ],
      "source": [
        "plt.figure(figsize=(8,5))\n",
        "plt.plot(rf_fpr, rf_tpr, marker='.')\n",
        "plt.xlabel('False Positive Rate')\n",
        "plt.ylabel('True Positive Rate')\n",
        "plt.title('ROC curve for random forest')"
      ]
    },
    {
      "cell_type": "markdown",
      "source": [
        "#### 6- Naive Bayes"
      ],
      "metadata": {
        "id": "oWFfp6MhHoJ_"
      },
      "id": "oWFfp6MhHoJ_"
    },
    {
      "cell_type": "markdown",
      "source": [
        "##### the model"
      ],
      "metadata": {
        "id": "WlFLLP7fIIrg"
      },
      "id": "WlFLLP7fIIrg"
    },
    {
      "cell_type": "code",
      "execution_count": null,
      "id": "e801f9e5",
      "metadata": {
        "id": "e801f9e5",
        "outputId": "c022af89-7056-42a3-df64-42e94be280de",
        "colab": {
          "base_uri": "https://localhost:8080/"
        }
      },
      "outputs": [
        {
          "output_type": "execute_result",
          "data": {
            "text/plain": [
              "GaussianNB()"
            ]
          },
          "metadata": {},
          "execution_count": 106
        }
      ],
      "source": [
        "# I used \"GaussianNB\" because there are real values in feature columns of dataset\n",
        "# also I couldn't come up with parameters to experiment on with cross validation so I dropped that part\n",
        "bayes = GaussianNB()\n",
        "\n",
        "# fit naive bayes model on train set\n",
        "bayes.fit(X_train, y_train)"
      ]
    },
    {
      "cell_type": "markdown",
      "source": [
        "predicting labels for train set and printing classification report and confusion matrix and accuracy score for prediction on train set:"
      ],
      "metadata": {
        "id": "jVOazXsZICol"
      },
      "id": "jVOazXsZICol"
    },
    {
      "cell_type": "code",
      "execution_count": null,
      "id": "f521bb90",
      "metadata": {
        "id": "f521bb90",
        "outputId": "0b549520-62ab-4b69-f80c-25dffbc0b449",
        "colab": {
          "base_uri": "https://localhost:8080/"
        }
      },
      "outputs": [
        {
          "output_type": "stream",
          "name": "stdout",
          "text": [
            "              precision    recall  f1-score   support\n",
            "\n",
            "           0       0.79      0.68      0.73      3583\n",
            "           1       0.72      0.82      0.77      3622\n",
            "\n",
            "    accuracy                           0.75      7205\n",
            "   macro avg       0.76      0.75      0.75      7205\n",
            "weighted avg       0.76      0.75      0.75      7205\n",
            "\n",
            "\n",
            "[[2444 1139]\n",
            " [ 637 2985]]\n",
            "\n",
            "Naive Bayes train accuracy : 0.75\n"
          ]
        }
      ],
      "source": [
        "train_preds = bayes.predict(X_train)\n",
        "print(classification_report(y_train, train_preds))\n",
        "print()\n",
        "print(confusion_matrix(y_train, train_preds))\n",
        "print()\n",
        "print('Naive Bayes train accuracy :', round(accuracy_score(y_train, train_preds), 2))"
      ]
    },
    {
      "cell_type": "markdown",
      "source": [
        "predicting labels for test set and printing classification report and confusion matrix and accuracy score for prediction on test set:"
      ],
      "metadata": {
        "id": "TU95rQJUIdmO"
      },
      "id": "TU95rQJUIdmO"
    },
    {
      "cell_type": "code",
      "execution_count": null,
      "id": "223785f5",
      "metadata": {
        "id": "223785f5",
        "outputId": "b5847b83-932d-4265-e6c0-f0a4d88a5b26",
        "colab": {
          "base_uri": "https://localhost:8080/"
        }
      },
      "outputs": [
        {
          "output_type": "stream",
          "name": "stdout",
          "text": [
            "              precision    recall  f1-score   support\n",
            "\n",
            "           0       0.92      0.68      0.78      1303\n",
            "           1       0.34      0.73      0.47       297\n",
            "\n",
            "    accuracy                           0.69      1600\n",
            "   macro avg       0.63      0.71      0.62      1600\n",
            "weighted avg       0.81      0.69      0.72      1600\n",
            "\n",
            "\n",
            "[[881 422]\n",
            " [ 79 218]]\n",
            "\n",
            "Naive Bayes test accuracy : 0.69\n"
          ]
        }
      ],
      "source": [
        "test_preds = bayes.predict(X_test)\n",
        "print(classification_report(y_test, test_preds))\n",
        "print()\n",
        "print(confusion_matrix(y_test, test_preds))\n",
        "print()\n",
        "print('Naive Bayes test accuracy :', round(accuracy_score(y_test, test_preds), 2))"
      ]
    },
    {
      "cell_type": "markdown",
      "source": [
        "##### plot decision boundary"
      ],
      "metadata": {
        "id": "aplQku8CIjF1"
      },
      "id": "aplQku8CIjF1"
    },
    {
      "cell_type": "markdown",
      "source": [
        "training another naive bayes model on 2 most important features of train set; \"ip\" and \"app\":"
      ],
      "metadata": {
        "id": "jhPTeSH6I4If"
      },
      "id": "jhPTeSH6I4If"
    },
    {
      "cell_type": "code",
      "source": [
        "# fit the model\n",
        "nb_model = GaussianNB()\n",
        "nb_clf = nb_model.fit(X_train[:, :2], y_train)\n",
        "\n",
        "plt.figure(figsize=(15,10))\n",
        "xx, yy = make_meshgrid(x_min, x_max, y_min, y_max)\n",
        "\n",
        "# plot the classification with the decision boundary and scatter plot of test set\n",
        "plot_contours(nb_clf, xx, yy, cmap='RdBu', alpha=0.2)\n",
        "for i, color in zip(range(2), 'rby'):\n",
        "  idx = np.where(y_test == i)\n",
        "  plt.scatter(X_test[idx, 0], X_test[idx, 1], c=color, label=y_test.iloc[i], cmap='RdBu')\n",
        "plt.xlabel('ip')\n",
        "plt.ylabel('app')\n",
        "plt.title('Decision surface of Naive Bayes (test data)')\n",
        "plt.legend()\n",
        "plt.xlim(x_min, x_max)\n",
        "plt.ylim(y_min, y_max)"
      ],
      "metadata": {
        "colab": {
          "base_uri": "https://localhost:8080/",
          "height": 644
        },
        "id": "faqP0zobCSGh",
        "outputId": "1591c473-cd40-463a-bb01-e87e925fed43"
      },
      "id": "faqP0zobCSGh",
      "execution_count": null,
      "outputs": [
        {
          "output_type": "execute_result",
          "data": {
            "text/plain": [
              "(-1.8507788784364754, 14.480440494933074)"
            ]
          },
          "metadata": {},
          "execution_count": 109
        },
        {
          "output_type": "display_data",
          "data": {
            "image/png": "[encoded data removed]",
            "text/plain": [
              "<Figure size 1080x720 with 1 Axes>"
            ]
          },
          "metadata": {}
        }
      ]
    },
    {
      "cell_type": "markdown",
      "source": [
        "##### plot ROC"
      ],
      "metadata": {
        "id": "UX8cHUDZJhZB"
      },
      "id": "UX8cHUDZJhZB"
    },
    {
      "cell_type": "code",
      "execution_count": null,
      "id": "c50086c3",
      "metadata": {
        "id": "c50086c3"
      },
      "outputs": [],
      "source": [
        "bayes_prob = bayes.predict_proba(X_test)\n",
        "bayes_prob = bayes_prob[:, 1]"
      ]
    },
    {
      "cell_type": "markdown",
      "source": [
        "computing auc score:"
      ],
      "metadata": {
        "id": "fPatzoZ-JixT"
      },
      "id": "fPatzoZ-JixT"
    },
    {
      "cell_type": "code",
      "execution_count": null,
      "id": "a9e74372",
      "metadata": {
        "id": "a9e74372",
        "outputId": "247e40bb-c769-45fa-dd1e-e99696bdde12",
        "colab": {
          "base_uri": "https://localhost:8080/"
        }
      },
      "outputs": [
        {
          "output_type": "stream",
          "name": "stdout",
          "text": [
            "Naive Bayes ROC AUC = 0.780\n"
          ]
        }
      ],
      "source": [
        "bayes_auc = roc_auc_score(y_test, bayes_prob)\n",
        "print('Naive Bayes ROC AUC = %.3f' %(bayes_auc))"
      ]
    },
    {
      "cell_type": "markdown",
      "source": [
        "now plotting ROC curve:"
      ],
      "metadata": {
        "id": "kS19DuhHJmPh"
      },
      "id": "kS19DuhHJmPh"
    },
    {
      "cell_type": "code",
      "execution_count": null,
      "id": "10f04929",
      "metadata": {
        "id": "10f04929"
      },
      "outputs": [],
      "source": [
        "b_fpr, b_tpr, _ = roc_curve(y_test, bayes_prob)"
      ]
    },
    {
      "cell_type": "code",
      "execution_count": null,
      "id": "563af019",
      "metadata": {
        "id": "563af019",
        "outputId": "d0476db9-c750-4537-c0d6-117d3898adeb",
        "colab": {
          "base_uri": "https://localhost:8080/",
          "height": 372
        }
      },
      "outputs": [
        {
          "output_type": "execute_result",
          "data": {
            "text/plain": [
              "Text(0.5, 1.0, 'ROC curve for Naive Bayes')"
            ]
          },
          "metadata": {},
          "execution_count": 113
        },
        {
          "output_type": "display_data",
          "data": {
            "image/png": "[encoded data removed]",
            "text/plain": [
              "<Figure size 576x360 with 1 Axes>"
            ]
          },
          "metadata": {}
        }
      ],
      "source": [
        "plt.figure(figsize=(8,5))\n",
        "plt.plot(b_fpr, b_tpr, marker='.')\n",
        "plt.xlabel('False Positive Rate')\n",
        "plt.ylabel('True Positive Rate')\n",
        "plt.title('ROC curve for Naive Bayes')"
      ]
    },
    {
      "cell_type": "code",
      "execution_count": null,
      "id": "7e612b0d",
      "metadata": {
        "id": "7e612b0d"
      },
      "outputs": [],
      "source": [
        ""
      ]
    }
  ],
  "metadata": {
    "accelerator": "GPU",
    "colab": {
      "collapsed_sections": [],
      "name": "part 2 - classification.ipynb",
      "provenance": []
    },
    "kernelspec": {
      "display_name": "Python 3",
      "language": "python",
      "name": "python3"
    },
    "language_info": {
      "codemirror_mode": {
        "name": "ipython",
        "version": 3
      },
      "file_extension": ".py",
      "mimetype": "text/x-python",
      "name": "python",
      "nbconvert_exporter": "python",
      "pygments_lexer": "ipython3",
      "version": "3.9.4"
    }
  },
  "nbformat": 4,
  "nbformat_minor": 5
}